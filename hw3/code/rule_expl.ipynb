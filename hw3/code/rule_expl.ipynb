{
 "cells": [
  {
   "cell_type": "code",
   "execution_count": 1,
   "metadata": {
    "execution": {
     "iopub.execute_input": "2024-10-20T14:08:41.631224Z",
     "iopub.status.busy": "2024-10-20T14:08:41.631100Z",
     "iopub.status.idle": "2024-10-20T14:08:41.866751Z",
     "shell.execute_reply": "2024-10-20T14:08:41.866333Z"
    }
   },
   "outputs": [],
   "source": [
    "import pandas as pd"
   ]
  },
  {
   "cell_type": "code",
   "execution_count": 2,
   "metadata": {
    "execution": {
     "iopub.execute_input": "2024-10-20T14:08:41.869305Z",
     "iopub.status.busy": "2024-10-20T14:08:41.869054Z",
     "iopub.status.idle": "2024-10-20T14:08:41.874317Z",
     "shell.execute_reply": "2024-10-20T14:08:41.874061Z"
    }
   },
   "outputs": [],
   "source": [
    "rule_data = pd.read_csv('./results/birdrules.txt.names.csv')"
   ]
  },
  {
   "cell_type": "code",
   "execution_count": 3,
   "metadata": {
    "execution": {
     "iopub.execute_input": "2024-10-20T14:08:41.876175Z",
     "iopub.status.busy": "2024-10-20T14:08:41.876009Z",
     "iopub.status.idle": "2024-10-20T14:08:41.879365Z",
     "shell.execute_reply": "2024-10-20T14:08:41.879106Z"
    }
   },
   "outputs": [],
   "source": [
    "numerical_cols = set(rule_data.columns) - set(['Rule'])\n",
    "for col in numerical_cols:\n",
    "    rule_data[col] = rule_data[col].apply(lambda x: float(x.split('=')[-1]))"
   ]
  },
  {
   "cell_type": "code",
   "execution_count": 4,
   "metadata": {
    "execution": {
     "iopub.execute_input": "2024-10-20T14:08:41.881083Z",
     "iopub.status.busy": "2024-10-20T14:08:41.880792Z",
     "iopub.status.idle": "2024-10-20T14:08:41.889847Z",
     "shell.execute_reply": "2024-10-20T14:08:41.889536Z"
    }
   },
   "outputs": [
    {
     "name": "stdout",
     "output_type": "stream",
     "text": [
      "Top interesting rules\n"
     ]
    },
    {
     "data": {
      "text/html": [
       "<div>\n",
       "<style scoped>\n",
       "    .dataframe tbody tr th:only-of-type {\n",
       "        vertical-align: middle;\n",
       "    }\n",
       "\n",
       "    .dataframe tbody tr th {\n",
       "        vertical-align: top;\n",
       "    }\n",
       "\n",
       "    .dataframe thead th {\n",
       "        text-align: right;\n",
       "    }\n",
       "</style>\n",
       "<table border=\"1\" class=\"dataframe\">\n",
       "  <thead>\n",
       "    <tr style=\"text-align: right;\">\n",
       "      <th></th>\n",
       "      <th>Rule</th>\n",
       "      <th>Confidence</th>\n",
       "      <th>Lift</th>\n",
       "      <th>Leverage</th>\n",
       "      <th>MI</th>\n",
       "    </tr>\n",
       "  </thead>\n",
       "  <tbody>\n",
       "    <tr>\n",
       "      <th>0</th>\n",
       "      <td>incub_F short-winged -&gt; ccare_F fr=12 (0.2400)</td>\n",
       "      <td>0.923</td>\n",
       "      <td>3.846</td>\n",
       "      <td>0.178</td>\n",
       "      <td>0.6933</td>\n",
       "    </tr>\n",
       "    <tr>\n",
       "      <th>1</th>\n",
       "      <td>dif-gender eat_plants -&gt; anatinae fr=7 (0.1400)</td>\n",
       "      <td>1.000</td>\n",
       "      <td>7.143</td>\n",
       "      <td>0.120</td>\n",
       "      <td>0.5842</td>\n",
       "    </tr>\n",
       "    <tr>\n",
       "      <th>2</th>\n",
       "      <td>webbed-feet dif-gender -&gt; anatinae fr=7 (0.1400)</td>\n",
       "      <td>1.000</td>\n",
       "      <td>7.143</td>\n",
       "      <td>0.120</td>\n",
       "      <td>0.5842</td>\n",
       "    </tr>\n",
       "    <tr>\n",
       "      <th>3</th>\n",
       "      <td>webbed-feet ccare_F -&gt; anatinae fr=7 (0.1400)</td>\n",
       "      <td>1.000</td>\n",
       "      <td>7.143</td>\n",
       "      <td>0.120</td>\n",
       "      <td>0.5842</td>\n",
       "    </tr>\n",
       "    <tr>\n",
       "      <th>4</th>\n",
       "      <td>accipitridae -&gt; ftype_A fr=8 (0.1600)</td>\n",
       "      <td>1.000</td>\n",
       "      <td>5.556</td>\n",
       "      <td>0.131</td>\n",
       "      <td>0.5437</td>\n",
       "    </tr>\n",
       "    <tr>\n",
       "      <th>5</th>\n",
       "      <td>ftype_C incub_F -&gt; ccare_F fr=11 (0.2200)</td>\n",
       "      <td>0.846</td>\n",
       "      <td>3.526</td>\n",
       "      <td>0.158</td>\n",
       "      <td>0.5014</td>\n",
       "    </tr>\n",
       "  </tbody>\n",
       "</table>\n",
       "</div>"
      ],
      "text/plain": [
       "                                               Rule  Confidence   Lift  \\\n",
       "0    incub_F short-winged -> ccare_F fr=12 (0.2400)       0.923  3.846   \n",
       "1   dif-gender eat_plants -> anatinae fr=7 (0.1400)       1.000  7.143   \n",
       "2  webbed-feet dif-gender -> anatinae fr=7 (0.1400)       1.000  7.143   \n",
       "3     webbed-feet ccare_F -> anatinae fr=7 (0.1400)       1.000  7.143   \n",
       "4             accipitridae -> ftype_A fr=8 (0.1600)       1.000  5.556   \n",
       "5         ftype_C incub_F -> ccare_F fr=11 (0.2200)       0.846  3.526   \n",
       "\n",
       "   Leverage      MI  \n",
       "0     0.178  0.6933  \n",
       "1     0.120  0.5842  \n",
       "2     0.120  0.5842  \n",
       "3     0.120  0.5842  \n",
       "4     0.131  0.5437  \n",
       "5     0.158  0.5014  "
      ]
     },
     "execution_count": 4,
     "metadata": {},
     "output_type": "execute_result"
    }
   ],
   "source": [
    "# Extract positively interesting rules\n",
    "# - Positively associated: leverage > 0 and lift > 1\n",
    "\n",
    "interesting_rules = rule_data[\n",
    "    (rule_data['Leverage'] > 0)\n",
    "    & (rule_data['Lift'] > 1)\n",
    "]\n",
    "\n",
    "# Sorted by the Goodness Measurement column (assuming that it is the last column)\n",
    "print(\"Top interesting rules\")\n",
    "interesting_rules.sort_values(by=rule_data.columns[-1], ascending=False)"
   ]
  },
  {
   "cell_type": "code",
   "execution_count": null,
   "metadata": {},
   "outputs": [],
   "source": []
  }
 ],
 "metadata": {
  "kernelspec": {
   "display_name": "data-mining-course",
   "language": "python",
   "name": "python3"
  },
  "language_info": {
   "codemirror_mode": {
    "name": "ipython",
    "version": 3
   },
   "file_extension": ".py",
   "mimetype": "text/x-python",
   "name": "python",
   "nbconvert_exporter": "python",
   "pygments_lexer": "ipython3",
   "version": "3.11.7"
  }
 },
 "nbformat": 4,
 "nbformat_minor": 2
}
