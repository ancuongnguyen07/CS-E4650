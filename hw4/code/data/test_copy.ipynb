{
 "cells": [
  {
   "cell_type": "markdown",
   "metadata": {},
   "source": [
    "## 3.4 Assignment\n",
    "\n",
    "the task is to implement a dfs for the alpha cliques\n",
    "\n",
    "in dolphins.txt the first line is the number of nodes 62\n",
    "the following lines are starts and end vertices for undirected edges\n",
    "\n",
    "The other file is dolphininfo.txt where the i:th line tells the name and sex\n",
    "(F=female, M=male, U=unspecified) of dolphin (node) number i.\n",
    "\n",
    "\n",
    "$ deg_S(v)  $   is the degree of v in set S\n",
    "$ deg_V(v)  $   is the degree of v in the entire graph\n",
    "\n",
    "\n",
    "a set S is an $ \\alpha-clique $   if the smallest degree node in S, divided by the number of nodes - 1, is $ \\geq \\alpha $"
   ]
  },
  {
   "cell_type": "markdown",
   "metadata": {},
   "source": [
    "### Pruning\n",
    "\n",
    "even though $ \\alpha-cliequedness $ is not monotonic, it is still possible to prune all supersets according to the formula. \n"
   ]
  },
  {
   "cell_type": "code",
   "execution_count": 4,
   "metadata": {},
   "outputs": [],
   "source": [
    "def read_graph(file_path):\n",
    "    adjacency_list = {}\n",
    "    with open(file_path, 'r') as file:\n",
    "        lines = file.readlines()\n",
    "        # Extract the number of nodes from the first line\n",
    "        first_line = lines[0].strip()\n",
    "        num_nodes = int(first_line.split()[0])\n",
    "        \n",
    "        # Initialize adjacency list with empty lists for each node\n",
    "        for node in range(1, num_nodes + 1):\n",
    "            adjacency_list[node] = []\n",
    "        \n",
    "        # Parse each edge and populate the adjacency list\n",
    "        for line in lines[1:]:\n",
    "            parts = line.strip().split()\n",
    "            if len(parts) == 2:\n",
    "                u, v = int(parts[0]), int(parts[1])\n",
    "                adjacency_list[u].append(v)\n",
    "                adjacency_list[v].append(u)  # Because the graph is undirected\n",
    "            else:\n",
    "                raise Exception('wrong number')\n",
    "    return adjacency_list\n"
   ]
  },
  {
   "cell_type": "code",
   "execution_count": 6,
   "metadata": {},
   "outputs": [
    {
     "name": "stdout",
     "output_type": "stream",
     "text": [
      "1: [2, 4]\n",
      "2: [1, 3, 4]\n",
      "3: [2, 4, 5]\n",
      "4: [1, 2, 3]\n",
      "5: [3]\n"
     ]
    }
   ],
   "source": [
    "# Read the graph from the file\n",
    "graph_toys = read_graph('toyset.txt')\n",
    "\n",
    "# Print the adjacency list\n",
    "for node in graph_toys:\n",
    "    print(f\"{node}: {graph_toys[node]}\")\n"
   ]
  },
  {
   "cell_type": "code",
   "execution_count": 7,
   "metadata": {},
   "outputs": [],
   "source": [
    "def is_alpha_clique(graph, set_of_nodes, alpha: float):\n",
    "    mindegrees = []\n",
    "    S = len(graph)\n",
    "    for node in set_of_nodes:\n",
    "        for graphnode in graph:\n",
    "            if graph[graphnode].includes(node):\n",
    "                mindegrees[node] += 1\n",
    "    condition = mindegrees.min() / (S) >= alpha\n",
    "    return condition\n",
    "\n",
    "\n"
   ]
  },
  {
   "cell_type": "code",
   "execution_count": null,
   "metadata": {},
   "outputs": [],
   "source": [
    "alpha = 0.6\n",
    "\n",
    "for node in graph_toys:\n",
    "    proposal_array = []\n",
    "    proposal_array.append(node)\n",
    "\n",
    "    alpha_clique_arrays = {}\n",
    "\n",
    "    if is_alpha_clique(graph=graph_toys, set_of_nodes=proposal_array, alpha = alpha):\n",
    "        alpha_clique_arrays[node] = \n"
   ]
  }
 ],
 "metadata": {
  "kernelspec": {
   "display_name": "Python (data_mining_env)",
   "language": "python",
   "name": "data_mining_env"
  },
  "language_info": {
   "codemirror_mode": {
    "name": "ipython",
    "version": 3
   },
   "file_extension": ".py",
   "mimetype": "text/x-python",
   "name": "python",
   "nbconvert_exporter": "python",
   "pygments_lexer": "ipython3",
   "version": "3.10.15"
  }
 },
 "nbformat": 4,
 "nbformat_minor": 2
}
