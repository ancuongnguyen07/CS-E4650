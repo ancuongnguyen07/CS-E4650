{
 "cells": [
  {
   "cell_type": "markdown",
   "metadata": {},
   "source": [
    "## 3.4 Assignment\n",
    "\n",
    "the task is to implement a dfs for the alpha cliques\n",
    "\n",
    "in dolphins.txt the first line is the number of nodes 62\n",
    "the following lines are starts and end vertices for undirected edges\n",
    "\n",
    "The other file is dolphininfo.txt where the i:th line tells the name and sex\n",
    "(F=female, M=male, U=unspecified) of dolphin (node) number i.\n",
    "\n",
    "\n",
    "$ deg_S(v)  $   is the degree of v in set S\n",
    "$ deg_V(v)  $   is the degree of v in the entire graph\n",
    "\n",
    "\n",
    "a set S is an $ \\alpha-clique $   if the smallest degree node in S, divided by the number of nodes - 1, is $ \\geq \\alpha $"
   ]
  },
  {
   "cell_type": "markdown",
   "metadata": {},
   "source": [
    "### Pruning\n",
    "\n",
    "even though $ \\alpha-cliequedness $ is not monotonic, it is still possible to prune all supersets according to the formula. \n"
   ]
  },
  {
   "cell_type": "code",
   "execution_count": 14,
   "metadata": {},
   "outputs": [],
   "source": [
    "import numpy as np"
   ]
  },
  {
   "cell_type": "code",
   "execution_count": 15,
   "metadata": {},
   "outputs": [],
   "source": [
    "def read_graph(file_path):\n",
    "    adjacency_list = {}\n",
    "    with open(file_path, 'r') as file:\n",
    "        lines = file.readlines()\n",
    "        # Extract the number of nodes from the first line\n",
    "        first_line = lines[0].strip()\n",
    "        num_nodes = int(first_line.split()[0])\n",
    "        \n",
    "        # Initialize adjacency list with empty lists for each node\n",
    "        for node in range(1, num_nodes + 1):\n",
    "            adjacency_list[node] = []\n",
    "        \n",
    "        # Parse each edge and populate the adjacency list\n",
    "        for line in lines[1:]:\n",
    "            parts = line.strip().split()\n",
    "            if len(parts) == 2:\n",
    "                u, v = int(parts[0]), int(parts[1])\n",
    "                adjacency_list[u].append(v)\n",
    "                adjacency_list[v].append(u)  # Because the graph is undirected\n",
    "            else:\n",
    "                raise Exception('wrong number')\n",
    "    return adjacency_list\n"
   ]
  },
  {
   "cell_type": "code",
   "execution_count": 16,
   "metadata": {},
   "outputs": [
    {
     "name": "stdout",
     "output_type": "stream",
     "text": [
      "5\n",
      "1: [2, 4]\n",
      "2: [1, 3, 4]\n",
      "3: [2, 4, 5]\n",
      "4: [1, 2, 3]\n",
      "5: [3]\n"
     ]
    }
   ],
   "source": [
    "# Read the graph from the file\n",
    "graph_toys = read_graph('toyset.txt')\n",
    "print(len(graph_toys))\n",
    "\n",
    "# Print the adjacency list\n",
    "for node in graph_toys:\n",
    "    print(f\"{node}: {graph_toys[node]}\")\n"
   ]
  },
  {
   "cell_type": "code",
   "execution_count": 26,
   "metadata": {},
   "outputs": [
    {
     "name": "stdout",
     "output_type": "stream",
     "text": [
      "graph_toys:  {1: [2, 4], 2: [1, 3, 4], 3: [2, 4, 5], 4: [1, 2, 3], 5: [3]}\n"
     ]
    },
    {
     "data": {
      "text/plain": [
       "{1: [2, 4], 2: [1, 3, 4], 3: [2, 4, 5], 4: [1, 2, 3], 5: [3]}"
      ]
     },
     "execution_count": 26,
     "metadata": {},
     "output_type": "execute_result"
    }
   ],
   "source": [
    "print(\"graph_toys: \" , graph_toys)\n",
    "graph_toys\n"
   ]
  },
  {
   "cell_type": "code",
   "execution_count": 17,
   "metadata": {},
   "outputs": [],
   "source": [
    "def is_alpha_clique(graph, set_of_nodes, alpha: float):\n",
    "    mindegrees = []\n",
    "    S = len(graph)\n",
    "    for node in set_of_nodes:\n",
    "        for graphnode in graph:\n",
    "            if graph[graphnode].includes(node):\n",
    "                mindegrees[node] += 1\n",
    "    condition = mindegrees.min() / (S) >= alpha\n",
    "    return condition\n",
    "\n",
    "\n",
    "\n"
   ]
  },
  {
   "cell_type": "code",
   "execution_count": 21,
   "metadata": {},
   "outputs": [
    {
     "name": "stdout",
     "output_type": "stream",
     "text": [
      "node: 1: graph[node]: [2, 4]\n",
      "proposal_array [1]\n",
      "node: 2: graph[node]: [1, 3, 4]\n",
      "proposal_array [2]\n",
      "node: 3: graph[node]: [2, 4, 5]\n",
      "proposal_array [3]\n",
      "node: 4: graph[node]: [1, 2, 3]\n",
      "proposal_array [4]\n",
      "node: 5: graph[node]: [3]\n",
      "proposal_array [5]\n"
     ]
    }
   ],
   "source": [
    "def simpleprint(graph):\n",
    "    for node in graph:\n",
    "\n",
    "        proposal_array = []\n",
    "        proposal_array.append(node)\n",
    "\n",
    "        alpha_clique_arrays = {}\n",
    "        print(f\"node: {node}: graph[node]: {graph[node]}\")\n",
    "        print(f\"proposal_array\", proposal_array)\n",
    "# def olddfs(graph):\n",
    "\n",
    "#     for node in graph:\n",
    "\n",
    "#         proposal_array = []\n",
    "#         proposal_array.append(node)\n",
    "\n",
    "#         alpha_clique_arrays = {}\n",
    "#         print(f\"node: {node}: graph[node]: {graph[node]}\")\n",
    "#         print(f\"proposal_array\", proposal_array)\n",
    "#         for other_nodes in graph[-node]:\n",
    "#             dfs(graph=graph)\n",
    "\n",
    "simpleprint(graph = graph_toys)\n"
   ]
  },
  {
   "cell_type": "code",
   "execution_count": 32,
   "metadata": {},
   "outputs": [
    {
     "name": "stdout",
     "output_type": "stream",
     "text": [
      "Trying out node 1, visited:  [False False False False False]\n",
      "Visiting node: 1\n",
      "Updated visited: [ True False False False False]\n",
      "Node 1 trying to visit neighbor 2\n",
      "Trying out node 2, visited:  [ True False False False False]\n",
      "Visiting node: 2\n",
      "Updated visited: [ True  True False False False]\n",
      "Node 2 trying to visit neighbor 1\n",
      "Node 2 trying to visit neighbor 3\n",
      "Trying out node 3, visited:  [ True  True False False False]\n",
      "Visiting node: 3\n",
      "Updated visited: [ True  True  True False False]\n",
      "Node 3 trying to visit neighbor 2\n",
      "Node 3 trying to visit neighbor 4\n",
      "Trying out node 4, visited:  [ True  True  True False False]\n",
      "Visiting node: 4\n",
      "Updated visited: [ True  True  True  True False]\n",
      "Node 4 trying to visit neighbor 1\n",
      "Node 4 trying to visit neighbor 2\n",
      "Node 4 trying to visit neighbor 3\n",
      "Node 3 trying to visit neighbor 5\n",
      "Trying out node 5, visited:  [ True  True  True  True False]\n",
      "Visiting node: 5\n",
      "Updated visited: [ True  True  True  True  True]\n",
      "Node 5 trying to visit neighbor 3\n",
      "Node 2 trying to visit neighbor 4\n",
      "Node 1 trying to visit neighbor 4\n"
     ]
    }
   ],
   "source": [
    "visited = np.zeros(len(graph_toys), dtype=bool)\n",
    "def dfs(at):\n",
    "    print(f\"Trying out node {at}, visited: \" , visited)\n",
    "    if visited[at-1]:\n",
    "        return\n",
    "    print(f\"Visiting node: {at}\")\n",
    "    visited[at-1]  = True\n",
    "    print(f\"Updated visited: {visited}\")\n",
    "\n",
    "    neighbours = graph_toys[at]\n",
    "    for neighbour in neighbours:\n",
    "        print(f\"Node {at} trying to visit neighbor {neighbour}\")\n",
    "        if not(visited[neighbour-1]):\n",
    "            dfs(neighbour)\n",
    "\n",
    "\n",
    "\n",
    "dfs(1)"
   ]
  },
  {
   "cell_type": "code",
   "execution_count": 33,
   "metadata": {},
   "outputs": [
    {
     "name": "stdout",
     "output_type": "stream",
     "text": [
      "Trying out node 1, visited:  [False False False False False]\n",
      "Visiting node: 1\n",
      "Updated visited: [ True False False False False]\n",
      "Node 1 trying to visit neighbor 2\n",
      "Trying out node 2, visited:  [ True False False False False]\n",
      "Visiting node: 2\n",
      "Updated visited: [ True  True False False False]\n",
      "Node 2 trying to visit neighbor 1\n",
      "Node 2 trying to visit neighbor 3\n",
      "Trying out node 3, visited:  [ True  True False False False]\n",
      "Visiting node: 3\n",
      "Updated visited: [ True  True  True False False]\n",
      "Node 3 trying to visit neighbor 2\n",
      "Node 3 trying to visit neighbor 4\n",
      "Trying out node 4, visited:  [ True  True  True False False]\n",
      "Visiting node: 4\n",
      "Updated visited: [ True  True  True  True False]\n",
      "Node 4 trying to visit neighbor 1\n",
      "Node 4 trying to visit neighbor 2\n",
      "Node 4 trying to visit neighbor 3\n",
      "Node 3 trying to visit neighbor 5\n",
      "Trying out node 5, visited:  [ True  True  True  True False]\n",
      "Visiting node: 5\n",
      "Updated visited: [ True  True  True  True  True]\n",
      "Node 5 trying to visit neighbor 3\n",
      "Node 2 trying to visit neighbor 4\n",
      "Node 1 trying to visit neighbor 4\n"
     ]
    }
   ],
   "source": [
    "\n",
    "visited = np.zeros(len(graph_toys), dtype=bool)\n",
    "\n",
    "def dfs(at):\n",
    "    print(f\"Trying out node {at}, visited: \", visited)\n",
    "    if visited[at-1]:\n",
    "        return\n",
    "    print(f\"Visiting node: {at}\")\n",
    "    visited[at-1] = True\n",
    "    print(f\"Updated visited: {visited}\")\n",
    "\n",
    "    neighbours = graph_toys[at]\n",
    "    for neighbour in neighbours:\n",
    "        print(f\"Node {at} trying to visit neighbor {neighbour}\")\n",
    "        if not visited[neighbour-1]:\n",
    "            dfs(neighbour)\n",
    "\n",
    "dfs(1)\n"
   ]
  },
  {
   "cell_type": "code",
   "execution_count": 35,
   "metadata": {},
   "outputs": [
    {
     "name": "stdout",
     "output_type": "stream",
     "text": [
      "Trying out node 1, visited: [False False False False False]\n",
      "Visiting node: 1\n",
      "Updated visited: [ True False False False False]\n",
      "Node 1 trying to visit neighbor 2\n",
      "Trying out node 2, visited: [ True False False False False]\n",
      "Visiting node: 2\n",
      "Updated visited: [ True  True False False False]\n",
      "Node 2 trying to visit neighbor 1\n",
      "Node 2 trying to visit neighbor 3\n",
      "Trying out node 3, visited: [ True  True False False False]\n",
      "Visiting node: 3\n",
      "Updated visited: [ True  True  True False False]\n",
      "Node 3 trying to visit neighbor 2\n",
      "Node 3 trying to visit neighbor 4\n",
      "Trying out node 4, visited: [ True  True  True False False]\n",
      "Visiting node: 4\n",
      "Updated visited: [ True  True  True  True False]\n",
      "Node 4 trying to visit neighbor 1\n",
      "Node 4 trying to visit neighbor 2\n",
      "Node 4 trying to visit neighbor 3\n",
      "Backtracking from node: 4, current visited: [ True  True  True  True False]\n",
      "Node 3 trying to visit neighbor 5\n",
      "Trying out node 5, visited: [ True  True  True False False]\n",
      "Visiting node: 5\n",
      "Updated visited: [ True  True  True False  True]\n",
      "Node 5 trying to visit neighbor 3\n",
      "Backtracking from node: 5, current visited: [ True  True  True False  True]\n",
      "Backtracking from node: 3, current visited: [ True  True  True False False]\n",
      "Node 2 trying to visit neighbor 4\n",
      "Trying out node 4, visited: [ True  True False False False]\n",
      "Visiting node: 4\n",
      "Updated visited: [ True  True False  True False]\n",
      "Node 4 trying to visit neighbor 1\n",
      "Node 4 trying to visit neighbor 2\n",
      "Node 4 trying to visit neighbor 3\n",
      "Trying out node 3, visited: [ True  True False  True False]\n",
      "Visiting node: 3\n",
      "Updated visited: [ True  True  True  True False]\n",
      "Node 3 trying to visit neighbor 2\n",
      "Node 3 trying to visit neighbor 4\n",
      "Node 3 trying to visit neighbor 5\n",
      "Trying out node 5, visited: [ True  True  True  True False]\n",
      "Visiting node: 5\n",
      "Updated visited: [ True  True  True  True  True]\n",
      "Node 5 trying to visit neighbor 3\n",
      "Backtracking from node: 5, current visited: [ True  True  True  True  True]\n",
      "Backtracking from node: 3, current visited: [ True  True  True  True False]\n",
      "Backtracking from node: 4, current visited: [ True  True False  True False]\n",
      "Backtracking from node: 2, current visited: [ True  True False False False]\n",
      "Node 1 trying to visit neighbor 4\n",
      "Trying out node 4, visited: [ True False False False False]\n",
      "Visiting node: 4\n",
      "Updated visited: [ True False False  True False]\n",
      "Node 4 trying to visit neighbor 1\n",
      "Node 4 trying to visit neighbor 2\n",
      "Trying out node 2, visited: [ True False False  True False]\n",
      "Visiting node: 2\n",
      "Updated visited: [ True  True False  True False]\n",
      "Node 2 trying to visit neighbor 1\n",
      "Node 2 trying to visit neighbor 3\n",
      "Trying out node 3, visited: [ True  True False  True False]\n",
      "Visiting node: 3\n",
      "Updated visited: [ True  True  True  True False]\n",
      "Node 3 trying to visit neighbor 2\n",
      "Node 3 trying to visit neighbor 4\n",
      "Node 3 trying to visit neighbor 5\n",
      "Trying out node 5, visited: [ True  True  True  True False]\n",
      "Visiting node: 5\n",
      "Updated visited: [ True  True  True  True  True]\n",
      "Node 5 trying to visit neighbor 3\n",
      "Backtracking from node: 5, current visited: [ True  True  True  True  True]\n",
      "Backtracking from node: 3, current visited: [ True  True  True  True False]\n",
      "Node 2 trying to visit neighbor 4\n",
      "Backtracking from node: 2, current visited: [ True  True False  True False]\n",
      "Node 4 trying to visit neighbor 3\n",
      "Trying out node 3, visited: [ True False False  True False]\n",
      "Visiting node: 3\n",
      "Updated visited: [ True False  True  True False]\n",
      "Node 3 trying to visit neighbor 2\n",
      "Trying out node 2, visited: [ True False  True  True False]\n",
      "Visiting node: 2\n",
      "Updated visited: [ True  True  True  True False]\n",
      "Node 2 trying to visit neighbor 1\n",
      "Node 2 trying to visit neighbor 3\n",
      "Node 2 trying to visit neighbor 4\n",
      "Backtracking from node: 2, current visited: [ True  True  True  True False]\n",
      "Node 3 trying to visit neighbor 4\n",
      "Node 3 trying to visit neighbor 5\n",
      "Trying out node 5, visited: [ True False  True  True False]\n",
      "Visiting node: 5\n",
      "Updated visited: [ True False  True  True  True]\n",
      "Node 5 trying to visit neighbor 3\n",
      "Backtracking from node: 5, current visited: [ True False  True  True  True]\n",
      "Backtracking from node: 3, current visited: [ True False  True  True False]\n",
      "Backtracking from node: 4, current visited: [ True False False  True False]\n",
      "Backtracking from node: 1, current visited: [ True False False False False]\n"
     ]
    }
   ],
   "source": [
    "def dfs(at: int, \n",
    "        visited: np.ndarray, \n",
    "        graph: dict) -> None:\n",
    "    \"\"\"\n",
    "    Performs a recursive Depth-First Search (DFS) starting from the given node.\n",
    "\n",
    "    This function explores all possible paths in the graph by allowing backtracking.\n",
    "    Each recursive call receives its own copy of the visited array to prevent\n",
    "    interference between different exploration paths.\n",
    "\n",
    "    Args:\n",
    "        at (int): The current node being visited.\n",
    "        visited (np.ndarray): A boolean array indicating which nodes have been visited.\n",
    "        graph (Dict[int, List[int]]): The adjacency list representation of the graph.\n",
    "\n",
    "    Returns:\n",
    "        None\n",
    "    \"\"\"\n",
    "    print(f\"Trying out node {at}, visited: {visited}\")\n",
    "    \n",
    "    # If the node is already visited in the current path, skip it\n",
    "    if visited[at - 1]:\n",
    "        return\n",
    "    \n",
    "    print(f\"Visiting node: {at}\")\n",
    "    \n",
    "    # Create a copy of the visited array for the current path\n",
    "    visited = visited.copy()\n",
    "    visited[at - 1] = True\n",
    "    print(f\"Updated visited: {visited}\")\n",
    "    \n",
    "    # Retrieve neighbors; use get to handle nodes with no neighbors\n",
    "    neighbours = graph.get(at, [])\n",
    "    for neighbour in neighbours:\n",
    "        print(f\"Node {at} trying to visit neighbor {neighbour}\")\n",
    "        if not visited[neighbour - 1]:\n",
    "            dfs(neighbour, visited, graph)\n",
    "    \n",
    "    print(f\"All neighbours checked! backtracking from node: {at}, current visited: {visited}\")\n",
    "\n",
    "# Initialize the visited array with all False (unvisited)\n",
    "initial_visited: np.ndarray = np.zeros(len(graph_toys), dtype=bool)\n",
    "\n",
    "# Start DFS from node 1\n",
    "dfs(1, initial_visited, graph_toys)"
   ]
  },
  {
   "cell_type": "code",
   "execution_count": 20,
   "metadata": {},
   "outputs": [
    {
     "ename": "SyntaxError",
     "evalue": "invalid syntax (1419795378.py, line 10)",
     "output_type": "error",
     "traceback": [
      "\u001b[0;36m  Cell \u001b[0;32mIn[20], line 10\u001b[0;36m\u001b[0m\n\u001b[0;31m    alpha_clique_arrays[node] =\u001b[0m\n\u001b[0m                                ^\u001b[0m\n\u001b[0;31mSyntaxError\u001b[0m\u001b[0;31m:\u001b[0m invalid syntax\n"
     ]
    }
   ],
   "source": [
    "alpha = 0.6\n",
    "\n",
    "for node in graph_toys:\n",
    "    proposal_array = []\n",
    "    proposal_array.append(node)\n",
    "\n",
    "    alpha_clique_arrays = {}\n",
    "\n",
    "    if is_alpha_clique(graph=graph_toys, set_of_nodes=proposal_array, alpha = alpha):\n",
    "        alpha_clique_arrays[node] = \n"
   ]
  }
 ],
 "metadata": {
  "kernelspec": {
   "display_name": "data_mining_env",
   "language": "python",
   "name": "python3"
  },
  "language_info": {
   "codemirror_mode": {
    "name": "ipython",
    "version": 3
   },
   "file_extension": ".py",
   "mimetype": "text/x-python",
   "name": "python",
   "nbconvert_exporter": "python",
   "pygments_lexer": "ipython3",
   "version": "3.10.15"
  }
 },
 "nbformat": 4,
 "nbformat_minor": 2
}
