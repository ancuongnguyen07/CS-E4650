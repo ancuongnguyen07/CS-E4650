{
 "cells": [
  {
   "cell_type": "markdown",
   "metadata": {},
   "source": [
    "## 3.4 Assignment\n",
    "\n",
    "the task is to implement a dfs for the alpha cliques\n",
    "\n",
    "in dolphins.txt the first line is the number of nodes 62\n",
    "the following lines are starts and end vertices for undirected edges\n",
    "\n",
    "The other file is dolphininfo.txt where the i:th line tells the name and sex\n",
    "(F=female, M=male, U=unspecified) of dolphin (node) number i.\n",
    "\n",
    "\n",
    "$ deg_S(v)  $   is the degree of v in set S\n",
    "$ deg_V(v)  $   is the degree of v in the entire graph\n",
    "\n",
    "\n",
    "a set S is an $ \\alpha-clique $   if the smallest degree node in S, divided by the number of nodes - 1, is $ \\geq \\alpha $"
   ]
  },
  {
   "cell_type": "markdown",
   "metadata": {},
   "source": [
    "### Pruning\n",
    "\n",
    "even though $ \\alpha-cliequedness $ is not monotonic, it is still possible to prune all supersets according to the formula. \n"
   ]
  },
  {
   "cell_type": "code",
   "execution_count": 38,
   "metadata": {},
   "outputs": [],
   "source": [
    "import numpy as np"
   ]
  },
  {
   "cell_type": "code",
   "execution_count": 39,
   "metadata": {},
   "outputs": [],
   "source": [
    "def read_graph(file_path):\n",
    "    adjacency_list = {}\n",
    "    with open(file_path, 'r') as file:\n",
    "        lines = file.readlines()\n",
    "        # Extract the number of nodes from the first line\n",
    "        first_line = lines[0].strip()\n",
    "        num_nodes = int(first_line.split()[0])\n",
    "        \n",
    "        # Initialize adjacency list with empty lists for each node\n",
    "        for node in range(1, num_nodes + 1):\n",
    "            adjacency_list[node] = []\n",
    "        \n",
    "        # Parse each edge and populate the adjacency list\n",
    "        for line in lines[1:]:\n",
    "            parts = line.strip().split()\n",
    "            if len(parts) == 2:\n",
    "                u, v = int(parts[0]), int(parts[1])\n",
    "                adjacency_list[u].append(v)\n",
    "                adjacency_list[v].append(u)  # Because the graph is undirected\n",
    "            else:\n",
    "                raise Exception('wrong number')\n",
    "    return adjacency_list\n"
   ]
  },
  {
   "cell_type": "code",
   "execution_count": 40,
   "metadata": {},
   "outputs": [
    {
     "name": "stdout",
     "output_type": "stream",
     "text": [
      "5\n",
      "1: [2, 4]\n",
      "2: [1, 3, 4]\n",
      "3: [2, 4, 5]\n",
      "4: [1, 2, 3]\n",
      "5: [3]\n"
     ]
    }
   ],
   "source": [
    "# Read the graph from the file\n",
    "graph_toys = read_graph('toyset.txt')\n",
    "print(len(graph_toys))\n",
    "\n",
    "# Print the adjacency list\n",
    "for node in graph_toys:\n",
    "    print(f\"{node}: {graph_toys[node]}\")\n"
   ]
  },
  {
   "cell_type": "code",
   "execution_count": 41,
   "metadata": {},
   "outputs": [],
   "source": [
    "def is_alpha_clique(graph, set_of_nodes, alpha: float):\n",
    "    mindegrees = []\n",
    "    S = len(graph)\n",
    "    for node in set_of_nodes:\n",
    "        for graphnode in graph:\n",
    "            if graph[graphnode].includes(node):\n",
    "                mindegrees[node] += 1\n",
    "    condition = mindegrees.min() / (S) >= alpha\n",
    "    return condition\n",
    "\n",
    "\n",
    "\n"
   ]
  },
  {
   "cell_type": "code",
   "execution_count": 42,
   "metadata": {},
   "outputs": [],
   "source": [
    "def dfs(at: int, \n",
    "        visited: np.ndarray, \n",
    "        graph: dict, \n",
    "        debug: bool = False) -> None:\n",
    "    \"\"\"\n",
    "    Performs a recursive Depth-First Search (DFS) starting from the given node.\n",
    "\n",
    "    This function explores all possible paths in the graph by allowing backtracking.\n",
    "    Each recursive call receives its own copy of the visited array to prevent\n",
    "    interference between different exploration paths.\n",
    "\n",
    "    Args:\n",
    "        at (int): The current node being visited.\n",
    "        visited (np.ndarray): A boolean array indicating which nodes have been visited.\n",
    "        graph (Dict[int, List[int]]): The adjacency list representation of the graph.\n",
    "        debug (bool): If True, prints debug information. Defaults to False.\n",
    "\n",
    "    Returns:\n",
    "        None\n",
    "    \"\"\"\n",
    "    if debug:\n",
    "        print(f\"Trying out node {at}, visited: {visited}\")\n",
    "    \n",
    "    # If the node is already visited in the current path, skip it\n",
    "    if visited[at - 1]:\n",
    "        return\n",
    "    \n",
    "    if debug:\n",
    "        print(f\"Visiting node: {at}\")\n",
    "    \n",
    "    # Create a copy of the visited array for the current path\n",
    "    visited = visited.copy()\n",
    "    visited[at - 1] = True\n",
    "    if debug:\n",
    "        print(f\"Updated visited: {visited}\")\n",
    "    \n",
    "    # Retrieve neighbors; use get to handle nodes with no neighbors\n",
    "    neighbours = graph.get(at, [])\n",
    "    for neighbour in neighbours:\n",
    "        if debug:\n",
    "            print(f\"Node {at} trying to visit neighbor {neighbour}\")\n",
    "        if not visited[neighbour - 1]:\n",
    "            dfs(neighbour, visited, graph, debug)\n",
    "    \n",
    "    if debug:\n",
    "        print(f\"All neighbours checked! backtracking from node: {at}, current visited: {visited}\")\n",
    "\n",
    "# Initialize the visited array with all False (unvisited)\n",
    "initial_visited: np.ndarray = np.zeros(len(graph_toys), dtype=bool)\n",
    "\n",
    "# Start DFS from node 1\n",
    "dfs(1, initial_visited, graph_toys, debug=False)"
   ]
  },
  {
   "cell_type": "code",
   "execution_count": 65,
   "metadata": {},
   "outputs": [
    {
     "name": "stdout",
     "output_type": "stream",
     "text": [
      "Node 1 -> Attempting to visit neighbor FIRST\n",
      "Visiting node 1.\n",
      "Node 1 marked as visited. Updated visited: [ True False False False False]\n",
      "Node 1 has neighbors: [2, 4]\n",
      "Node 1 -> Attempting to visit neighbor 2.\n"
     ]
    },
    {
     "ename": "TypeError",
     "evalue": "dfs() got multiple values for argument 'initial_call'",
     "output_type": "error",
     "traceback": [
      "\u001b[0;31m---------------------------------------------------------------------------\u001b[0m",
      "\u001b[0;31mTypeError\u001b[0m                                 Traceback (most recent call last)",
      "Cell \u001b[0;32mIn[65], line 61\u001b[0m\n\u001b[1;32m     58\u001b[0m initial_visited: np\u001b[38;5;241m.\u001b[39mndarray \u001b[38;5;241m=\u001b[39m np\u001b[38;5;241m.\u001b[39mzeros(\u001b[38;5;28mlen\u001b[39m(graph_toys), dtype\u001b[38;5;241m=\u001b[39m\u001b[38;5;28mbool\u001b[39m)\n\u001b[1;32m     60\u001b[0m global_listof_cliques \u001b[38;5;241m=\u001b[39m []\n\u001b[0;32m---> 61\u001b[0m \u001b[43mdfs\u001b[49m\u001b[43m(\u001b[49m\u001b[38;5;241;43m1\u001b[39;49m\u001b[43m,\u001b[49m\u001b[43m \u001b[49m\u001b[43minitial_visited\u001b[49m\u001b[43m,\u001b[49m\u001b[43m \u001b[49m\u001b[43mgraph_toys\u001b[49m\u001b[43m,\u001b[49m\u001b[43m \u001b[49m\u001b[43minitial_call\u001b[49m\u001b[38;5;241;43m=\u001b[39;49m\u001b[38;5;28;43;01mTrue\u001b[39;49;00m\u001b[43m,\u001b[49m\u001b[43m \u001b[49m\u001b[43mdebug\u001b[49m\u001b[38;5;241;43m=\u001b[39;49m\u001b[38;5;28;43;01mTrue\u001b[39;49;00m\u001b[43m)\u001b[49m\n",
      "Cell \u001b[0;32mIn[65], line 52\u001b[0m, in \u001b[0;36mdfs\u001b[0;34m(at, visited, graph, initial_call, debug)\u001b[0m\n\u001b[1;32m     50\u001b[0m         \u001b[38;5;28mprint\u001b[39m(\u001b[38;5;124mf\u001b[39m\u001b[38;5;124m\"\u001b[39m\u001b[38;5;124mNode \u001b[39m\u001b[38;5;132;01m{\u001b[39;00mat\u001b[38;5;132;01m}\u001b[39;00m\u001b[38;5;124m -> Attempting to visit neighbor \u001b[39m\u001b[38;5;132;01m{\u001b[39;00mneighbour\u001b[38;5;132;01m}\u001b[39;00m\u001b[38;5;124m.\u001b[39m\u001b[38;5;124m\"\u001b[39m)\n\u001b[1;32m     51\u001b[0m     \u001b[38;5;28;01mif\u001b[39;00m \u001b[38;5;129;01mnot\u001b[39;00m visited[neighbour \u001b[38;5;241m-\u001b[39m \u001b[38;5;241m1\u001b[39m]:\n\u001b[0;32m---> 52\u001b[0m         \u001b[43mdfs\u001b[49m\u001b[43m(\u001b[49m\u001b[43mneighbour\u001b[49m\u001b[43m,\u001b[49m\u001b[43m \u001b[49m\u001b[43mvisited\u001b[49m\u001b[43m,\u001b[49m\u001b[43m \u001b[49m\u001b[43mgraph\u001b[49m\u001b[43m,\u001b[49m\u001b[43m \u001b[49m\u001b[43mdebug\u001b[49m\u001b[43m,\u001b[49m\u001b[43m \u001b[49m\u001b[43minitial_call\u001b[49m\u001b[38;5;241;43m=\u001b[39;49m\u001b[38;5;28;43;01mFalse\u001b[39;49;00m\u001b[43m)\u001b[49m\n\u001b[1;32m     54\u001b[0m \u001b[38;5;28;01mif\u001b[39;00m debug:\n\u001b[1;32m     55\u001b[0m     \u001b[38;5;28mprint\u001b[39m(\u001b[38;5;124mf\u001b[39m\u001b[38;5;124m\"\u001b[39m\u001b[38;5;124mAll neighbors of node \u001b[39m\u001b[38;5;132;01m{\u001b[39;00mat\u001b[38;5;132;01m}\u001b[39;00m\u001b[38;5;124m have been processed. Backtracking from node \u001b[39m\u001b[38;5;132;01m{\u001b[39;00mat\u001b[38;5;132;01m}\u001b[39;00m\u001b[38;5;124m.\u001b[39m\u001b[38;5;130;01m\\n\u001b[39;00m\u001b[38;5;124m\"\u001b[39m)\n",
      "\u001b[0;31mTypeError\u001b[0m: dfs() got multiple values for argument 'initial_call'"
     ]
    }
   ],
   "source": [
    "import numpy as np\n",
    "from typing import Dict, List\n",
    "\n",
    "\n",
    "\n",
    "def dfs(at: int, \n",
    "        visited: np.ndarray, \n",
    "        graph: Dict[int, List[int]], initial_call: bool = True, \n",
    "        debug: bool = False) -> None:\n",
    "    \"\"\"\n",
    "    Performs a recursive Depth-First Search (DFS) starting from the given node.\n",
    "\n",
    "    This function explores all possible paths in the graph by allowing backtracking.\n",
    "    Each recursive call receives its own copy of the visited array to prevent\n",
    "    interference between different exploration paths.\n",
    "\n",
    "    Args:\n",
    "        at (int): The current node being visited.\n",
    "        visited (np.ndarray): A boolean array indicating which nodes have been visited.\n",
    "        graph (Dict[int, List[int]]): The adjacency list representation of the graph.\n",
    "        debug (bool): If True, prints debug information. Defaults to False.\n",
    "\n",
    "    Returns:\n",
    "        None\n",
    "    \"\"\"\n",
    "    if initial_call:\n",
    "        print(f\"Node {at} -> Attempting to visit neighbor FIRST\" )\n",
    "\n",
    "    # If the node is already visited in the current path, skip it\n",
    "\n",
    "    if debug:\n",
    "        print(f\"Visiting node {at}.\")\n",
    "\n",
    "    # Create a copy of the visited array for the current path\n",
    "    visited = visited.copy()\n",
    "    visited[at - 1] = True\n",
    "    if debug:\n",
    "        print(f\"Node {at} marked as visited. Updated visited: {visited}\")\n",
    "    \n",
    "    visited_nodes = tuple(sorted([i + 1 for i, value in enumerate(visited) if value]))\n",
    "    global_listof_cliques.append(visited_nodes)\n",
    "\n",
    "    # Retrieve neighbors; use get to handle nodes with no neighbors\n",
    "    neighbours = graph.get(at, [])\n",
    "    if debug:\n",
    "        print(f\"Node {at} has neighbors: {neighbours}\")\n",
    "\n",
    "    for neighbour in neighbours:\n",
    "        if debug:\n",
    "            print(f\"Node {at} -> Attempting to visit neighbor {neighbour}.\")\n",
    "        if not visited[neighbour - 1]:\n",
    "            dfs(neighbour, visited, graph, initial_call=False, debug = debug)\n",
    "\n",
    "    if debug:\n",
    "        print(f\"All neighbors of node {at} have been processed. Backtracking from node {at}.\\n\")\n",
    "\n",
    "# Initialize the visited array with all False (unvisited)\n",
    "initial_visited: np.ndarray = np.zeros(len(graph_toys), dtype=bool)\n",
    "\n",
    "global_listof_cliques = []\n",
    "dfs(1, initial_visited, graph_toys, initial_call=True, debug=True)\n"
   ]
  },
  {
   "cell_type": "code",
   "execution_count": 62,
   "metadata": {},
   "outputs": [
    {
     "data": {
      "text/plain": [
       "[]"
      ]
     },
     "execution_count": 62,
     "metadata": {},
     "output_type": "execute_result"
    }
   ],
   "source": [
    "global_listof_cliques"
   ]
  }
 ],
 "metadata": {
  "kernelspec": {
   "display_name": "data_mining_env",
   "language": "python",
   "name": "python3"
  },
  "language_info": {
   "codemirror_mode": {
    "name": "ipython",
    "version": 3
   },
   "file_extension": ".py",
   "mimetype": "text/x-python",
   "name": "python",
   "nbconvert_exporter": "python",
   "pygments_lexer": "ipython3",
   "version": "3.10.15"
  }
 },
 "nbformat": 4,
 "nbformat_minor": 2
}
