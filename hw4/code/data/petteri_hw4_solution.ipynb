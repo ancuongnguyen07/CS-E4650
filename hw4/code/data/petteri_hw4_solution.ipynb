{
 "cells": [
  {
   "cell_type": "markdown",
   "metadata": {},
   "source": [
    "## 3.4 Assignment\n",
    "\n",
    "the task is to implement a dfs for the alpha cliques\n",
    "\n",
    "in dolphins.txt the first line is the number of nodes 62\n",
    "the following lines are starts and end vertices for undirected edges\n",
    "\n",
    "The other file is dolphininfo.txt where the i:th line tells the name and sex\n",
    "(F=female, M=male, U=unspecified) of dolphin (node) number i.\n",
    "\n",
    "\n",
    "$ deg_S(v)  $   is the degree of v in set S\n",
    "$ deg_V(v)  $   is the degree of v in the entire graph\n",
    "\n",
    "\n",
    "a set S is an $ \\alpha-clique $   if the smallest degree node in S, divided by the number of nodes - 1, is $ \\geq \\alpha $"
   ]
  },
  {
   "cell_type": "markdown",
   "metadata": {},
   "source": [
    "### Pruning\n",
    "\n",
    "even though $ \\alpha-cliequedness $ is not monotonic, it is still possible to prune all supersets according to the formula. \n"
   ]
  },
  {
   "cell_type": "code",
   "execution_count": 342,
   "metadata": {},
   "outputs": [],
   "source": [
    "import numpy as np\n",
    "\n",
    "\n",
    "alpha = 0.6"
   ]
  },
  {
   "cell_type": "code",
   "execution_count": 343,
   "metadata": {},
   "outputs": [],
   "source": [
    "def read_graph(file_path):\n",
    "    adjacency_list = {}\n",
    "    with open(file_path, 'r') as file:\n",
    "        lines = file.readlines()\n",
    "        # Extract the number of nodes from the first line\n",
    "        first_line = lines[0].strip()\n",
    "        num_nodes = int(first_line.split()[0])\n",
    "        \n",
    "        # Initialize adjacency list with empty lists for each node\n",
    "        for node in range(1, num_nodes + 1):\n",
    "            adjacency_list[node] = []\n",
    "        \n",
    "        # Parse each edge and populate the adjacency list\n",
    "        for line in lines[1:]:\n",
    "            parts = line.strip().split()\n",
    "            if len(parts) == 2:\n",
    "                u, v = int(parts[0]), int(parts[1])\n",
    "                adjacency_list[u].append(v)\n",
    "                adjacency_list[v].append(u)  # Because the graph is undirected\n",
    "            else:\n",
    "                raise Exception('wrong number')\n",
    "    return adjacency_list\n"
   ]
  },
  {
   "cell_type": "code",
   "execution_count": 344,
   "metadata": {},
   "outputs": [
    {
     "name": "stdout",
     "output_type": "stream",
     "text": [
      "5\n",
      "1: [2, 4]\n",
      "2: [1, 3, 4]\n",
      "3: [2, 4, 5]\n",
      "4: [1, 2, 3]\n",
      "5: [3]\n"
     ]
    }
   ],
   "source": [
    "# Read the graph from the file\n",
    "graph_toys = read_graph('toyset.txt')\n",
    "graph_dolphins = read_graph('dolphins.txt')\n",
    "print(len(graph_toys))\n",
    "\n",
    "# Print the adjacency list\n",
    "for node in graph_toys:\n",
    "    print(f\"{node}: {graph_toys[node]}\")\n"
   ]
  },
  {
   "cell_type": "code",
   "execution_count": 345,
   "metadata": {},
   "outputs": [],
   "source": [
    "def calculate_degrees(graph, set_of_nodes):\n",
    "    \"\"\"\n",
    "    calculates the degrees for a set of nodes, from the whole graph\n",
    "    \"\"\"\n",
    "    all_degrees = {node: 0 for node in set_of_nodes}\n",
    "    for node in set_of_nodes: \n",
    "        all_degrees[node] = len([neighbor for neighbor in graph[node]])\n",
    "    return all_degrees"
   ]
  },
  {
   "cell_type": "code",
   "execution_count": 346,
   "metadata": {},
   "outputs": [],
   "source": [
    "def is_alpha_clique(graph, set_of_nodes, alpha: float):\n",
    "    mindegrees = {node: 0 for node in set_of_nodes}\n",
    "\n",
    "    S = len(set_of_nodes)\n",
    "    if S < 3:\n",
    "        return False\n",
    "    for node in set_of_nodes: \n",
    "        mindegrees[node] = len([neighbor for neighbor in graph[node] if neighbor in set_of_nodes])\n",
    "    condition = min(mindegrees.values()) / (S - 1) >= alpha\n",
    "    return condition\n",
    "\n"
   ]
  },
  {
   "cell_type": "code",
   "execution_count": 347,
   "metadata": {},
   "outputs": [],
   "source": [
    "\n",
    "def is_limited_by_theorem(graph, set_of_nodes, alpha: float):\n",
    "    mindegrees = {node: 0 for node in set_of_nodes}\n",
    "\n",
    "    S = len(set_of_nodes)\n",
    "    if S < 3:\n",
    "        return False\n",
    "    for node in set_of_nodes: \n",
    "        mindegrees[node] = len([neighbor for neighbor in graph[node] if neighbor in set_of_nodes])\n",
    "    function_S = min(mindegrees.values()) / (S - 1)\n",
    "    # the condition holds for the largest degree in the set S, considering all nodes around it\n",
    "\n",
    "\n",
    "    all_degrees = calculate_degrees(graph, set_of_nodes)\n",
    "    max_deg = max(all_degrees.values())\n",
    "    upper_bound = 1  - (max_deg * (1 - alpha)) / ((S - 1)  *alpha)\n",
    "    condition = function_S < upper_bound\n",
    "    return condition\n"
   ]
  },
  {
   "cell_type": "code",
   "execution_count": 348,
   "metadata": {},
   "outputs": [],
   "source": [
    "import numpy as np\n",
    "from typing import Dict, List, Set, Tuple\n",
    "\n",
    "\n",
    "\n",
    "def dfs(\n",
    "\n",
    "    at: int,\n",
    "    visited: np.ndarray,\n",
    "    graph: Dict[int, List[int]],\n",
    "    alpha,\n",
    "    global_setof_cliques: Set[Tuple[int, ...]],\n",
    "    counter: Dict[str, int],\n",
    "    initial_call: bool = True,\n",
    "    debug: bool = False\n",
    "    ) -> None:\n",
    "        \n",
    "    \"\"\"\n",
    "    Performs a recursive Depth-First Search (DFS) starting from the given node.\n",
    "\n",
    "    This function explores all possible paths in the graph by allowing backtracking.\n",
    "    Each recursive call receives its own copy of the visited array to prevent\n",
    "    interference between different exploration paths.\n",
    "\n",
    "    Args:\n",
    "        at (int): The current node being visited.\n",
    "        visited (np.ndarray): A boolean array indicating which nodes have been visited.\n",
    "        graph (Dict[int, List[int]]): The adjacency list representation of the graph.\n",
    "        debug (bool): If True, prints debug information. Defaults to False.\n",
    "\n",
    "    Returns:\n",
    "        None\n",
    "    \"\"\"\n",
    "    if debug and initial_call:\n",
    "        print(f\"ALGO Begins for Node {at}\")\n",
    "\n",
    "    # If the node is already visited in the current path, skip it\n",
    "\n",
    "    # if debug:\n",
    "    #     print(f\"Visiting node {at}.\")\n",
    "\n",
    "    # Create a copy of the visited array for the current path\n",
    "    visited = visited.copy()\n",
    "    visited[at - 1] = True\n",
    "    if debug:\n",
    "        print(f\"Node {at} marked as visited. Updated visited: {visited}\")\n",
    "    \n",
    "    visited_nodes = tuple(sorted([i + 1 for i, value in enumerate(visited) if value]))\n",
    "    if debug:\n",
    "        print(f\"\\nTRYING OUT SET {visited_nodes}\")\n",
    "    \n",
    "    if is_limited_by_theorem(graph=graph, set_of_nodes=visited_nodes, alpha=alpha):\n",
    "        if debug:\n",
    "            print(\"----------------------------------------\")\n",
    "            print(f\" THEOREM STOP -- BACKTRACKING FROM {at}\")\n",
    "            print(\"----------------------------------------\")\n",
    "        return \n",
    "\n",
    "    # Increment the counter each time is_alpha_clique is called\n",
    "    counter['tested_candidates'] += 1\n",
    "    if is_alpha_clique(graph=graph, set_of_nodes=visited_nodes, alpha=alpha): # Writing .add stops duplicate entries from entering\n",
    "        global_setof_cliques.add(visited_nodes)\n",
    "\n",
    "    # Retrieve neighbors; use get to handle nodes with no neighbors\n",
    "    neighbours = graph.get(at, [])\n",
    "    if debug:\n",
    "        print(f\"\\nNode {at} has neighbors: {neighbours}\")\n",
    "\n",
    "    for neighbour in neighbours:\n",
    "        neighbour_is_visited = visited[neighbour - 1]\n",
    "        if debug:\n",
    "            print(f\"Node {at} -> Attempting to visit neighbor {neighbour}\", end='')\n",
    "            if neighbour_is_visited:\n",
    "                print(\"==> already visited\")\n",
    "            else:\n",
    "                print(\"==> accepted\")\n",
    "\n",
    "\n",
    "        if not neighbour_is_visited:\n",
    "            dfs(neighbour, visited, graph, alpha=alpha, global_setof_cliques=global_setof_cliques, initial_call=False, debug = debug, counter=counter)\n",
    "\n",
    "    if debug:\n",
    "        print(f\"All neighbors of node {at} have been processed. Backtracking from node {at}.\\n\")\n",
    "\n"
   ]
  },
  {
   "cell_type": "markdown",
   "metadata": {},
   "source": [
    "## 3.4 b) Improved DFS Search\n",
    "\n",
    "To trim as much possible space, it is ideal to increase the RHS of the theorems upperbound equation, i.e, have as high of a degree as possible for the node. \n",
    "\n",
    "Thus when finding the the next node to test, the neighbor with the highest degree should be picked first. "
   ]
  },
  {
   "cell_type": "code",
   "execution_count": 349,
   "metadata": {},
   "outputs": [],
   "source": [
    "\n",
    "def dfs_improved(\n",
    "    at: int,\n",
    "    visited: np.ndarray,\n",
    "    graph: Dict[int, List[int]],\n",
    "    alpha,\n",
    "    global_setof_cliques: Set[Tuple[int, ...]],\n",
    "    counter: Dict[str, int],\n",
    "    initial_call: bool = True,\n",
    "    debug: bool = False\n",
    ") -> None:\n",
    "    \"\"\"\n",
    "    Performs a recursive Depth-First Search (DFS) starting from the given node.\n",
    "    \n",
    "    Args:\n",
    "        at (int): The current node being visited.\n",
    "        visited (np.ndarray): A boolean array indicating which nodes have been visited.\n",
    "        graph (Dict[int, List[int]]): The adjacency list representation of the graph.\n",
    "        alpha: The alpha parameter for clique checking.\n",
    "        global_setof_cliques (Set[Tuple[int, ...]]): A set to store found cliques.\n",
    "        counter (Dict[str, int]): A dictionary to count tested candidates.\n",
    "        initial_call (bool): Indicates if this is the initial call of DFS.\n",
    "        debug (bool): If True, prints debug information.\n",
    "    \n",
    "    Returns:\n",
    "        None\n",
    "    \"\"\"\n",
    "    if debug and initial_call:\n",
    "        print(f\"ALGO Begins for Node {at}\")\n",
    "\n",
    "    # Create a copy of the visited array for the current path\n",
    "    visited = visited.copy()\n",
    "    visited[at - 1] = True\n",
    "    if debug:\n",
    "        print(f\"Node {at} marked as visited. Updated visited: {visited}\")\n",
    "    \n",
    "    visited_nodes = tuple(sorted([i + 1 for i, value in enumerate(visited) if value]))\n",
    "    if debug:\n",
    "        print(f\"\\nTRYING OUT SET {visited_nodes}\")\n",
    "    \n",
    "    if is_limited_by_theorem(graph=graph, set_of_nodes=visited_nodes, alpha=alpha):\n",
    "        if debug:\n",
    "            print(\"----------------------------------------\")\n",
    "            print(f\" THEOREM STOP -- BACKTRACKING FROM {at}\")\n",
    "            print(\"----------------------------------------\")\n",
    "        return \n",
    "    \n",
    "    # Increment the counter each time is_alpha_clique is called\n",
    "    counter['tested_candidates'] += 1\n",
    "    if is_alpha_clique(graph=graph, set_of_nodes=visited_nodes, alpha=alpha):\n",
    "        global_setof_cliques.add(visited_nodes)\n",
    "\n",
    "    # Retrieve neighbors; use get to handle nodes with no neighbors\n",
    "    neighbours = graph.get(at, [])\n",
    "    if debug:\n",
    "        print(f\"\\nNode {at} has neighbors: {neighbours}\")\n",
    "\n",
    "    neighbours_degrees = dict(zip(neighbours, calculate_degrees(graph, set_of_nodes=neighbours)))\n",
    "    # Sort neighbors by degree in descending order\n",
    "    sorted_neighbours = sorted(neighbours, key=lambda n: neighbours_degrees[n], reverse=True)\n",
    "\n",
    "    for neighbour in sorted_neighbours:\n",
    "        neighbour_is_visited = visited[neighbour - 1]\n",
    "        if debug:\n",
    "            print(f\"Node {at} -> Attempting to visit neighbor {neighbour}\", end='')\n",
    "            if neighbour_is_visited:\n",
    "                print(\"==> already visited\")\n",
    "            else:\n",
    "                print(\"==> accepted\")\n",
    "\n",
    "        if not neighbour_is_visited:\n",
    "            dfs_improved(\n",
    "                neighbour,\n",
    "                visited,\n",
    "                graph,\n",
    "                alpha=alpha,\n",
    "                global_setof_cliques=global_setof_cliques,\n",
    "                counter=counter,\n",
    "                initial_call=False,\n",
    "                debug=debug\n",
    "            )\n",
    "\n",
    "    if debug:\n",
    "        print(f\"All neighbors of node {at} have been processed. Backtracking from node {at}.\\n\")"
   ]
  },
  {
   "cell_type": "code",
   "execution_count": 350,
   "metadata": {},
   "outputs": [],
   "source": [
    "def run_dfs(graph, alpha, algorithm = 'dfs_improved'):\n",
    "    # Initialize the visited array with all False (unvisited)\n",
    "    initial_visited: np.ndarray = np.zeros(len(graph), dtype=bool)\n",
    "    global_setof_cliques: Set[Tuple[int, ...]] = set()\n",
    "    counter = {'tested_candidates': 0}\n",
    "\n",
    "\n",
    "    if algorithm == 'dfs_improved':\n",
    "        for node_index in graph_toys.keys():\n",
    "            dfs_improved(node_index, initial_visited, graph=graph, alpha=alpha, global_setof_cliques=global_setof_cliques, counter = counter, initial_call=True, debug=False)\n",
    "    elif algorithm == 'dfs':\n",
    "        for node_index in graph_toys.keys():\n",
    "            dfs(node_index, initial_visited, graph=graph, alpha=alpha, global_setof_cliques=global_setof_cliques, initial_call=True, debug=False, counter = counter)\n",
    "    else:\n",
    "        raise Exception(\"wrong mode\")\n",
    "\n",
    "    print(f\"Total tested candidates: {counter['tested_candidates']}\")\n",
    "\n",
    "    return global_setof_cliques\n"
   ]
  },
  {
   "cell_type": "code",
   "execution_count": 351,
   "metadata": {},
   "outputs": [
    {
     "name": "stdout",
     "output_type": "stream",
     "text": [
      "Total tested candidates: 129368\n"
     ]
    },
    {
     "data": {
      "text/plain": [
       "{(1, 11, 43),\n",
       " (1, 11, 43, 48),\n",
       " (1, 11, 48),\n",
       " (1, 15, 41),\n",
       " (1, 16, 41),\n",
       " (1, 43, 48),\n",
       " (2, 18, 26, 27, 28),\n",
       " (2, 18, 28),\n",
       " (2, 20, 55),\n",
       " (2, 27, 28),\n",
       " (2, 42, 55),\n",
       " (3, 11, 43),\n",
       " (4, 9, 60)}"
      ]
     },
     "execution_count": 351,
     "metadata": {},
     "output_type": "execute_result"
    }
   ],
   "source": [
    "\n",
    "run_dfs(graph_dolphins, alpha=0.7, algorithm='dfs')"
   ]
  },
  {
   "cell_type": "code",
   "execution_count": 352,
   "metadata": {},
   "outputs": [
    {
     "name": "stdout",
     "output_type": "stream",
     "text": [
      "Total tested candidates: 57\n"
     ]
    },
    {
     "data": {
      "text/plain": [
       "{(1, 2, 3, 4), (1, 2, 4), (2, 3, 4)}"
      ]
     },
     "execution_count": 352,
     "metadata": {},
     "output_type": "execute_result"
    }
   ],
   "source": [
    "run_dfs(graph_toys, alpha=0.6, algorithm='dfs')"
   ]
  },
  {
   "cell_type": "code",
   "execution_count": 353,
   "metadata": {},
   "outputs": [
    {
     "ename": "Exception",
     "evalue": "wrong mode",
     "output_type": "error",
     "traceback": [
      "\u001b[0;31m---------------------------------------------------------------------------\u001b[0m",
      "\u001b[0;31mException\u001b[0m                                 Traceback (most recent call last)",
      "Cell \u001b[0;32mIn[353], line 1\u001b[0m\n\u001b[0;32m----> 1\u001b[0m \u001b[43mrun_dfs\u001b[49m\u001b[43m(\u001b[49m\u001b[43mgraph_dolphins\u001b[49m\u001b[43m,\u001b[49m\u001b[43m \u001b[49m\u001b[43malpha\u001b[49m\u001b[38;5;241;43m=\u001b[39;49m\u001b[38;5;241;43m0.7\u001b[39;49m\u001b[43m,\u001b[49m\u001b[43m \u001b[49m\u001b[43malgorithm\u001b[49m\u001b[38;5;241;43m=\u001b[39;49m\u001b[38;5;124;43m'\u001b[39;49m\u001b[38;5;124;43mdfs_improved\u001b[39;49m\u001b[38;5;124;43m'\u001b[39;49m\u001b[43m)\u001b[49m\n",
      "Cell \u001b[0;32mIn[350], line 15\u001b[0m, in \u001b[0;36mrun_dfs\u001b[0;34m(graph, alpha, algorithm)\u001b[0m\n\u001b[1;32m     13\u001b[0m         dfs(node_index, initial_visited, graph\u001b[38;5;241m=\u001b[39mgraph, alpha\u001b[38;5;241m=\u001b[39malpha, global_setof_cliques\u001b[38;5;241m=\u001b[39mglobal_setof_cliques, initial_call\u001b[38;5;241m=\u001b[39m\u001b[38;5;28;01mTrue\u001b[39;00m, debug\u001b[38;5;241m=\u001b[39m\u001b[38;5;28;01mFalse\u001b[39;00m, counter \u001b[38;5;241m=\u001b[39m counter)\n\u001b[1;32m     14\u001b[0m \u001b[38;5;28;01melse\u001b[39;00m:\n\u001b[0;32m---> 15\u001b[0m     \u001b[38;5;28;01mraise\u001b[39;00m \u001b[38;5;167;01mException\u001b[39;00m(\u001b[38;5;124m\"\u001b[39m\u001b[38;5;124mwrong mode\u001b[39m\u001b[38;5;124m\"\u001b[39m)\n\u001b[1;32m     17\u001b[0m \u001b[38;5;28mprint\u001b[39m(\u001b[38;5;124mf\u001b[39m\u001b[38;5;124m\"\u001b[39m\u001b[38;5;124mTotal tested candidates: \u001b[39m\u001b[38;5;132;01m{\u001b[39;00mcounter[\u001b[38;5;124m'\u001b[39m\u001b[38;5;124mtested_candidates\u001b[39m\u001b[38;5;124m'\u001b[39m]\u001b[38;5;132;01m}\u001b[39;00m\u001b[38;5;124m\"\u001b[39m)\n\u001b[1;32m     19\u001b[0m \u001b[38;5;28;01mreturn\u001b[39;00m global_setof_cliques\n",
      "\u001b[0;31mException\u001b[0m: wrong mode"
     ]
    }
   ],
   "source": [
    "\n",
    "run_dfs(graph_dolphins, alpha=0.7, algorithm='dfs_improved')"
   ]
  }
 ],
 "metadata": {
  "kernelspec": {
   "display_name": "data_mining_env",
   "language": "python",
   "name": "python3"
  },
  "language_info": {
   "codemirror_mode": {
    "name": "ipython",
    "version": 3
   },
   "file_extension": ".py",
   "mimetype": "text/x-python",
   "name": "python",
   "nbconvert_exporter": "python",
   "pygments_lexer": "ipython3",
   "version": "3.10.15"
  }
 },
 "nbformat": 4,
 "nbformat_minor": 2
}
