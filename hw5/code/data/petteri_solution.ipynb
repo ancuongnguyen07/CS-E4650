{
 "cells": [
  {
   "cell_type": "markdown",
   "metadata": {},
   "source": [
    "## Homework 5.4 \n",
    "\n",
    "a)\n",
    "combine the title and abstract. \n",
    "\n",
    "bigrams are sequences of 2 words. \n",
    "unigrams are single words.\n",
    "Therefore, the tokens are twice as long for text that is tokenized into bigrams"
   ]
  },
  {
   "cell_type": "code",
   "execution_count": null,
   "metadata": {},
   "outputs": [],
   "source": [
    "# start of code:\n"
   ]
  }
 ],
 "metadata": {
  "language_info": {
   "name": "python"
  }
 },
 "nbformat": 4,
 "nbformat_minor": 2
}
