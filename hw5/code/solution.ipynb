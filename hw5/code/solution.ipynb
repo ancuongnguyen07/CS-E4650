{
 "cells": [
  {
   "cell_type": "code",
   "execution_count": 409,
   "metadata": {},
   "outputs": [],
   "source": [
    "import numpy as np\n",
    "import matplotlib.pyplot as plt\n",
    "import pandas as pd"
   ]
  },
  {
   "cell_type": "code",
   "execution_count": 410,
   "metadata": {},
   "outputs": [
    {
     "name": "stderr",
     "output_type": "stream",
     "text": [
      "[nltk_data] Downloading package punkt_tab to /home/cuong/nltk_data...\n",
      "[nltk_data]   Package punkt_tab is already up-to-date!\n",
      "[nltk_data] Downloading package stopwords to /home/cuong/nltk_data...\n",
      "[nltk_data]   Package stopwords is already up-to-date!\n",
      "[nltk_data] Downloading package wordnet to /home/cuong/nltk_data...\n",
      "[nltk_data]   Package wordnet is already up-to-date!\n"
     ]
    }
   ],
   "source": [
    "import nltk\n",
    "nltk.download('punkt_tab')\n",
    "nltk.download('stopwords')\n",
    "nltk.download('wordnet')\n",
    "\n",
    "from nltk.tokenize import word_tokenize\n",
    "from nltk.util import ngrams\n",
    "from nltk.stem.snowball import SnowballStemmer\n",
    "from nltk.stem import WordNetLemmatizer\n",
    "from nltk.corpus import stopwords\n",
    "from nltk.corpus import wordnet\n",
    "from nltk.probability import FreqDist\n",
    "from string import punctuation\n",
    "import re\n",
    "\n",
    "from sklearn.feature_extraction.text import TfidfVectorizer\n",
    "from sklearn.cluster import KMeans\n",
    "from sklearn.metrics import davies_bouldin_score"
   ]
  },
  {
   "cell_type": "code",
   "execution_count": 411,
   "metadata": {},
   "outputs": [
    {
     "data": {
      "text/html": [
       "<div>\n",
       "<style scoped>\n",
       "    .dataframe tbody tr th:only-of-type {\n",
       "        vertical-align: middle;\n",
       "    }\n",
       "\n",
       "    .dataframe tbody tr th {\n",
       "        vertical-align: top;\n",
       "    }\n",
       "\n",
       "    .dataframe thead th {\n",
       "        text-align: right;\n",
       "    }\n",
       "</style>\n",
       "<table border=\"1\" class=\"dataframe\">\n",
       "  <thead>\n",
       "    <tr style=\"text-align: right;\">\n",
       "      <th></th>\n",
       "      <th>ID</th>\n",
       "      <th>TITLE</th>\n",
       "      <th>ABSTRACT</th>\n",
       "      <th>TEXT</th>\n",
       "    </tr>\n",
       "  </thead>\n",
       "  <tbody>\n",
       "    <tr>\n",
       "      <th>0</th>\n",
       "      <td>id1</td>\n",
       "      <td>Anomaly detection in wide area imagery [Geniş ...</td>\n",
       "      <td>This study is about detecting anomalies in wid...</td>\n",
       "      <td>Anomaly detection in wide area imagery [Geniş ...</td>\n",
       "    </tr>\n",
       "    <tr>\n",
       "      <th>1</th>\n",
       "      <td>id2</td>\n",
       "      <td>Person re-identification with deep kronecker-p...</td>\n",
       "      <td>Person re-identification (re-ID) aims to robus...</td>\n",
       "      <td>Person re-identification with deep kronecker-p...</td>\n",
       "    </tr>\n",
       "    <tr>\n",
       "      <th>2</th>\n",
       "      <td>id3</td>\n",
       "      <td>Crack detection in images of masonry using cnns</td>\n",
       "      <td>While there is a significant body of research ...</td>\n",
       "      <td>Crack detection in images of masonry using cnn...</td>\n",
       "    </tr>\n",
       "    <tr>\n",
       "      <th>3</th>\n",
       "      <td>id4</td>\n",
       "      <td>Towards an energy efficient code generator for...</td>\n",
       "      <td>Using a smartphone become the part of our ever...</td>\n",
       "      <td>Towards an energy efficient code generator for...</td>\n",
       "    </tr>\n",
       "    <tr>\n",
       "      <th>4</th>\n",
       "      <td>id5</td>\n",
       "      <td>Sub-polyhedral scheduling using (Unit-)two-var...</td>\n",
       "      <td>Polyhedral compilation has been successful in ...</td>\n",
       "      <td>Sub-polyhedral scheduling using (Unit-)two-var...</td>\n",
       "    </tr>\n",
       "    <tr>\n",
       "      <th>...</th>\n",
       "      <td>...</td>\n",
       "      <td>...</td>\n",
       "      <td>...</td>\n",
       "      <td>...</td>\n",
       "    </tr>\n",
       "    <tr>\n",
       "      <th>1138</th>\n",
       "      <td>id1328</td>\n",
       "      <td>Colorimetric point-of-care paper-based sensors...</td>\n",
       "      <td>Creatinine is a clinically significant analyte...</td>\n",
       "      <td>Colorimetric point-of-care paper-based sensors...</td>\n",
       "    </tr>\n",
       "    <tr>\n",
       "      <th>1139</th>\n",
       "      <td>id1329</td>\n",
       "      <td>Calcium identification and scoring based on ec...</td>\n",
       "      <td>Currently, an echocardiography expert is neede...</td>\n",
       "      <td>Calcium identification and scoring based on ec...</td>\n",
       "    </tr>\n",
       "    <tr>\n",
       "      <th>1140</th>\n",
       "      <td>id1330</td>\n",
       "      <td>Considering filter importance and irreplaceabi...</td>\n",
       "      <td>Deep convolutional neural network (CNNs) have ...</td>\n",
       "      <td>Considering filter importance and irreplaceabi...</td>\n",
       "    </tr>\n",
       "    <tr>\n",
       "      <th>1141</th>\n",
       "      <td>id1331</td>\n",
       "      <td>Low-complexity bit-serial sequential polynomia...</td>\n",
       "      <td>GF(2m) multiplication is a complex and perform...</td>\n",
       "      <td>Low-complexity bit-serial sequential polynomia...</td>\n",
       "    </tr>\n",
       "    <tr>\n",
       "      <th>1142</th>\n",
       "      <td>id1332</td>\n",
       "      <td>Preventing reverse engineering threat in java ...</td>\n",
       "      <td>Java programs are compiled into a platform ind...</td>\n",
       "      <td>Preventing reverse engineering threat in java ...</td>\n",
       "    </tr>\n",
       "  </tbody>\n",
       "</table>\n",
       "<p>1143 rows × 4 columns</p>\n",
       "</div>"
      ],
      "text/plain": [
       "          ID                                              TITLE  \\\n",
       "0        id1  Anomaly detection in wide area imagery [Geniş ...   \n",
       "1        id2  Person re-identification with deep kronecker-p...   \n",
       "2        id3    Crack detection in images of masonry using cnns   \n",
       "3        id4  Towards an energy efficient code generator for...   \n",
       "4        id5  Sub-polyhedral scheduling using (Unit-)two-var...   \n",
       "...      ...                                                ...   \n",
       "1138  id1328  Colorimetric point-of-care paper-based sensors...   \n",
       "1139  id1329  Calcium identification and scoring based on ec...   \n",
       "1140  id1330  Considering filter importance and irreplaceabi...   \n",
       "1141  id1331  Low-complexity bit-serial sequential polynomia...   \n",
       "1142  id1332  Preventing reverse engineering threat in java ...   \n",
       "\n",
       "                                               ABSTRACT  \\\n",
       "0     This study is about detecting anomalies in wid...   \n",
       "1     Person re-identification (re-ID) aims to robus...   \n",
       "2     While there is a significant body of research ...   \n",
       "3     Using a smartphone become the part of our ever...   \n",
       "4     Polyhedral compilation has been successful in ...   \n",
       "...                                                 ...   \n",
       "1138  Creatinine is a clinically significant analyte...   \n",
       "1139  Currently, an echocardiography expert is neede...   \n",
       "1140  Deep convolutional neural network (CNNs) have ...   \n",
       "1141  GF(2m) multiplication is a complex and perform...   \n",
       "1142  Java programs are compiled into a platform ind...   \n",
       "\n",
       "                                                   TEXT  \n",
       "0     Anomaly detection in wide area imagery [Geniş ...  \n",
       "1     Person re-identification with deep kronecker-p...  \n",
       "2     Crack detection in images of masonry using cnn...  \n",
       "3     Towards an energy efficient code generator for...  \n",
       "4     Sub-polyhedral scheduling using (Unit-)two-var...  \n",
       "...                                                 ...  \n",
       "1138  Colorimetric point-of-care paper-based sensors...  \n",
       "1139  Calcium identification and scoring based on ec...  \n",
       "1140  Considering filter importance and irreplaceabi...  \n",
       "1141  Low-complexity bit-serial sequential polynomia...  \n",
       "1142  Preventing reverse engineering threat in java ...  \n",
       "\n",
       "[1143 rows x 4 columns]"
      ]
     },
     "execution_count": 411,
     "metadata": {},
     "output_type": "execute_result"
    }
   ],
   "source": [
    "data = pd.read_csv('data/scopusabstracts.csv', delimiter='#')\n",
    "data['TEXT'] = data['TITLE'] + ' ' + data['ABSTRACT']\n",
    "data"
   ]
  },
  {
   "cell_type": "code",
   "execution_count": 412,
   "metadata": {},
   "outputs": [],
   "source": [
    "# Sets of punctuation and stopwords\n",
    "PUNCTUATIONS = set(punctuation)\n",
    "STOPSWORDS = set(stopwords.words('english'))\n",
    "STOPSWORDS.update(['...'])\n",
    "\n",
    "def print_tokens(tokens_list: list[list[str]]) -> None:\n",
    "    for idx, tokens in enumerate(tokens_list):\n",
    "        token_str = ' '.join(tokens)\n",
    "        print(f'{idx}:\\n{token_str}')\n",
    "        print('-----------------------------------')\n",
    "        print()\n",
    "\n",
    "def lower_case(tokens_list: list[list[str]]) -> list[list[str]]:\n",
    "    return [[token.lower() for token in tokens_i] for tokens_i in tokens_list]\n",
    "\n",
    "def remove_punctuation(tokens_list: list[list[str]]) -> list[list[str]]:\n",
    "    return [[token for token in tokens_i if token not in PUNCTUATIONS] for tokens_i in tokens_list]\n",
    "\n",
    "def remove_stopwords(tokens_list: list[list[str]], stopwords: list[str]) -> list[list[str]]:\n",
    "    return [[token for token in tokens_i if token not in stopwords] for tokens_i in tokens_list]\n",
    "\n",
    "def remove_numbers(tokens_list: list[list[str]]) -> list[list[str]]:\n",
    "    return [[re.sub(r'\\d+', '', token) for token in tokens_i] for tokens_i in tokens_list]\n",
    "\n",
    "def stemming(tokens_list: list[list[str]]) -> list[list[str]]:\n",
    "    stemmer = SnowballStemmer(\"english\", ignore_stopwords=True)\n",
    "    return [[stemmer.stem(token) for token in tokens_i] for tokens_i in tokens_list]\n",
    "\n",
    "def lemmatization(tokens_list: list[list[str]]) -> list[list[str]]:\n",
    "    lemmatizer = WordNetLemmatizer()\n",
    "    return [[lemmatizer.lemmatize(token) for token in tokens_i] for tokens_i in tokens_list]\n",
    "\n",
    "def get_freq_dist(tokens_list: list[list[str]]) -> FreqDist:\n",
    "    all_tokens = [token for tokens_i in tokens_list for token in tokens_i]\n",
    "    return FreqDist(all_tokens)\n",
    "\n",
    "def replace_synonym(tokens_list: list[list[str]]) -> list[list[str]]:\n",
    "    def get_synonyms(word: str) -> set[str]:\n",
    "        synonyms = set()\n",
    "        for syn in wordnet.synsets(word):\n",
    "            for l in syn.lemmas():\n",
    "                synonyms.add(l.name())\n",
    "        return synonyms\n",
    "    #TODO!\n",
    "    pass\n"
   ]
  },
  {
   "cell_type": "markdown",
   "metadata": {},
   "source": [
    "## Baseline Models for Unigram and Bigram\n",
    "### Preprocessing"
   ]
  },
  {
   "cell_type": "code",
   "execution_count": 413,
   "metadata": {},
   "outputs": [
    {
     "name": "stdout",
     "output_type": "stream",
     "text": [
      "0:\n",
      "anomali detect wide area imageri geniş alan görüntülerind anomali tespiti studi detect anomali wide area imageri collect aircraft set anomali identifi anyth normal cours action purpos two differ data set use experi carri data set anomali detect convolut neural network model tri generat next imag use past imag design imag pre-process given model anomali detect perform compar estim imag true imag\n",
      "-----------------------------------\n",
      "\n",
      "1:\n",
      "person re-identif deep kronecker-product match group-shuffl random walk person re-identif re-id aim robust measur visual affin person imag wide applic intellig surveil associ person imag across multipl camera general treat imag retriev problem given probe person imag affin probe imag galleri imag pg affin use rank retriev galleri imag exist two main challeng effect solv problem  person imag usual show signific variat differ person pose view angl spatial layout correspond person imag therefor vital inform tackl problem state-of-the-art method either ignor spatial variat util extra pose inform handl challeng  exist person re-id method rank galleri imag consid pg affin ignor affin galleri imag gg affin affin could provid import clue accur galleri imag rank util post-process stage current method articl propos unifi end-to-end deep learn framework tackl two challeng handl viewpoint pose variat compar person imag propos novel kroneck product match oper match warp featur map differ person compar warp featur map result accur pg affin fulli util avail pg gg affin accur rank galleri person imag novel group-shuffl random walk oper propos kroneck product match group-shuffl random walk oper end-to-end trainabl shown improv learn visual featur integr deep learn framework propos approach outperform state-of-the-art method market- cuhk dukemtmc dataset demonstr effect general abil propos approach code avail http //github.com/yantaoshen/kpm_rw_person_reid\n",
      "-----------------------------------\n",
      "\n",
      "2:\n",
      "crack detect imag masonri use cnns signific bodi research crack detect comput vision method concret asphalt less attent given masonri train convolut neural network cnn imag brick wall built laboratori environ test abil detect crack imag brick-and-mortar structur laboratori real-world imag taken internet also compar perform cnn varieti simpler classifi oper handcraft featur find cnn perform better domain adapt laboratori real-world imag simpl model howev also find perform signific better perform revers domain adapt task simpl classifi train real-world imag test laboratori imag work demonstr abil detect crack imag masonri use varieti machin learn method provid guidanc improv reliabl model perform domain adapt crack detect masonri\n",
      "-----------------------------------\n",
      "\n",
      "3:\n",
      "toward energi effici code generat mobil phone use smartphon becom part everyday life last year devic help u mani area life sport job weather etc sometim also annoy batteri life time import find solut reduc energi consumpt smartphon one possibl method comput offload part process execut remot devic e.g cloud lot exampl alreadi shown comput offload reduc energi usag mobil devic howev amount energi save may differ decis make offload process control sever techniqu decis make theori base schedul theori paper go introduc new system call ecgm energi effici code generat mobil phone ecgm decid automat compil time task run smartphon task offload benefit system demonstr measur base energy-effici schedul techniqu\n",
      "-----------------------------------\n",
      "\n",
      "4:\n",
      "sub-polyhedr schedul use unit- two-variable-per-inequ polyhedron polyhedr compil success design implement complex loop nest optim parallel compil algorithm complex scalabl limit remain one import weak address use sub-polyhedr under-aproxim system constraint result affin schedul problem propos sub-polyhedr schedul techniqu use unit- two-variable-per-inequ u tvpi polyhedron techniqu reli simpl polynomi time algorithm under-approxim general polyhedron u tvpi polyhedron modifi state-of-the-art pluto compil use schedul techniqu show major polybench kernel under-approxim yield polyhedron non-empti solv under-approxim system lead asymptot gain complex show practic signific improv compar tradit lp solver also verifi code generat sub-polyhedr parallel prototyp match perform pluto-optim code under-approxim preserv feasibl copyright\n",
      "-----------------------------------\n",
      "\n",
      "5:\n",
      "extract multipl viewpoint model relat databas much time process mine project spent find understand data sourc extract event data need result fraction time spent actual appli techniqu discov control predict busi process moreov current process mine techniqu assum singl case notion howev real-lif process often differ case notion intertwin exampl event order handl process may refer custom order order line deliveri payment therefor propos use multipl viewpoint mvp model relat event object relat activ class requir event data much closer exist relat databas mvp model provid holist view process also allow extract classic event log use differ viewpoint way exist process mine techniqu use viewpoint without need new data extract transform provid toolchain allow discoveri mvp model annot perform frequenc inform relat databas moreov demonstr classic process mine techniqu appli select viewpoint\n",
      "-----------------------------------\n",
      "\n",
      "6:\n",
      "program result checker lexic analysi gnu c compil theori program result check establish well-suit method construct formal correct compil frontend never prove practic real-lif compil proof necessari establish result check method choic implement compil correct show lexic analysi gnu c compil formal specifi check within theorem prover isabelle/hol util program check therebi demonstr formal specif verif techniqu abl handl real-lif compil\n",
      "-----------------------------------\n",
      "\n",
      "7:\n",
      "advanc visual object track algorithm base correl filter 基于相关滤波的视觉目标跟踪算法新进展 excel comprehens perform correl filter-bas track algorithm becom hotspot theoret research practic applic field visual object track despit mani studi still lack systemat analys exist correl filter-bas track algorithm level track framework therefor start basic framework object track algorithm characterist correl filter-bas track algorithm deepli analyz basic problem work stage present paper basi main technolog progress correl filter-bas track algorithm characterist correspond algorithm recent ten year summar  typic correl filter-bas track algorithm evalu analyz final outstand issu urgent solv futur research direct correl filter-bas track algorithm discus\n",
      "-----------------------------------\n",
      "\n",
      "8:\n",
      "studi various databas model relat graph hybrid databas relat databas popular databas store various type inform due ever-increas growth data becom hard maintain process databas graph model becom popular sinc store handl big data effici compar relat databas relat databas graph databas advantag disadvantag overcom limit combin make hybrid model paper discus relat databas graph databas advantag applic also talk hybrid model\n",
      "-----------------------------------\n",
      "\n",
      "9:\n",
      "better report studi artifici intellig consort-ai beyond increas number studi artifici intellig ai publish dental oral scienc report also aspect studi suffer rang limit standard toward report like recent publish consolid standard report trial consort -ai extens help improv studi emerg field journal dental research jdr encourag author review reader adher standard notabl though wide rang aspect beyond report locat along various step ai lifecycl consid conceiv conduct report evalu studi ai dentistri\n",
      "-----------------------------------\n",
      "\n"
     ]
    }
   ],
   "source": [
    "# Preprocessing\n",
    "# tokenization of combination of title and abstract\n",
    "tokens_list = [word_tokenize(text) for text in data['TEXT']]\n",
    "\n",
    "# lower case\n",
    "tokens_list = lower_case(tokens_list)\n",
    "\n",
    "# remove numbers\n",
    "tokens_list = remove_numbers(tokens_list)\n",
    "\n",
    "# remove punctuation\n",
    "tokens_list = remove_punctuation(tokens_list)\n",
    "\n",
    "# remove stopwords\n",
    "tokens_list = remove_stopwords(tokens_list, STOPSWORDS)\n",
    "\n",
    "# stemming\n",
    "tokens_list = stemming(tokens_list)\n",
    "\n",
    "# lemmatization\n",
    "tokens_list = lemmatization(tokens_list)\n",
    "\n",
    "print_tokens(tokens_list[:10])"
   ]
  },
  {
   "cell_type": "code",
   "execution_count": 414,
   "metadata": {},
   "outputs": [
    {
     "name": "stdout",
     "output_type": "stream",
     "text": [
      "[('use', 1793), ('data', 1241), ('system', 1208), ('propos', 1082), ('', 1051), ('model', 937), ('method', 880), ('comput', 869), ('robot', 806), ('imag', 792), ('perform', 774), ('base', 728), ('algorithm', 719), ('databas', 701), ('result', 685), ('secur', 665), ('paper', 635), ('approach', 621), ('compil', 602), ('applic', 594), ('design', 569), ('learn', 544), ('develop', 535), ('detect', 513), ('process', 512), ('inform', 507), ('network', 505), ('present', 504), ('relat', 494), ('implement', 481)]\n"
     ]
    }
   ],
   "source": [
    "# Check most common words which are not informative, and add them to stopwords\n",
    "# I have checked manually and added some words to stopwords set STOPWORDS\n",
    "freq_dist = get_freq_dist(tokens_list)\n",
    "print(freq_dist.most_common(30))"
   ]
  },
  {
   "cell_type": "code",
   "execution_count": 415,
   "metadata": {},
   "outputs": [],
   "source": [
    "# remove non-specific too frequent words\n",
    "extra_stopwords = ['.', '', 'use', 'present']\n",
    "tokens_list = remove_stopwords(tokens_list, extra_stopwords)"
   ]
  },
  {
   "cell_type": "markdown",
   "metadata": {},
   "source": [
    "### Feature Extraction and Representation"
   ]
  },
  {
   "cell_type": "code",
   "execution_count": 416,
   "metadata": {},
   "outputs": [
    {
     "name": "stdout",
     "output_type": "stream",
     "text": [
      "Number of features: 3828\n"
     ]
    }
   ],
   "source": [
    "# Present as tf-idf\n",
    "MAX_FREQ = 0.8 # at most 80% of the documents\n",
    "MIN_FREQ = 5 # occur in at least 5 documents\n",
    "\n",
    "cleaned_documents = [' '.join(i) for i in tokens_list]\n",
    "\n",
    "tfidf_vectorizer = TfidfVectorizer(ngram_range=(1,2), smooth_idf=False, \n",
    "                                   max_df=MAX_FREQ, min_df=MIN_FREQ, norm='l2')\n",
    "# tfidf_vectorizer.fit(cleaned_documents)\n",
    "tf_idf_vectors = tfidf_vectorizer.fit_transform(cleaned_documents)\n",
    "\n",
    "# show the number of features\n",
    "print(f'Number of features: {len(tfidf_vectorizer.get_feature_names_out())}')\n",
    "\n",
    "# print(\"\\nThe tf-idf values of the first document\\n\")\n",
    "# feature_names = tfidf_vectorizer.get_feature_names_out()\n",
    "# feature_index = tf_idf_vectors[0, :].nonzero()[1]\n",
    "# tfidf_scores = zip(\n",
    "#     feature_index, [tf_idf_vectors[0, x] for x in feature_index])\n",
    "# for w, s in [(feature_names[i], s) for (i, s) in tfidf_scores]:\n",
    "#     print(w, s)"
   ]
  },
  {
   "cell_type": "markdown",
   "metadata": {},
   "source": [
    "### Clustering"
   ]
  },
  {
   "cell_type": "code",
   "execution_count": 417,
   "metadata": {},
   "outputs": [
    {
     "data": {
      "image/png": "[encoded data removed]",
      "text/plain": [
       "<Figure size 640x480 with 1 Axes>"
      ]
     },
     "metadata": {},
     "output_type": "display_data"
    }
   ],
   "source": [
    "# Do K-means clustering\n",
    "RANDOM_SEED = 42\n",
    "n_clusters = range(3,11)\n",
    "\n",
    "# Davies-Bouldin score, lower is better cluster separation\n",
    "davies_bouldin_scores = []\n",
    "kmeans_models: list[KMeans] = []\n",
    "for k in n_clusters:\n",
    "    kmeans = KMeans(init='k-means++', n_init='auto', n_clusters=k, random_state=RANDOM_SEED)\n",
    "    kmeans.fit(tf_idf_vectors)\n",
    "    kmeans_models.append(kmeans)\n",
    "    davies_bouldin_scores.append(davies_bouldin_score(tf_idf_vectors.toarray(), kmeans.labels_))\n",
    "\n",
    "\n",
    "# Plot the Davies-Bouldin score across different number of clusters\n",
    "plt.plot(n_clusters, davies_bouldin_scores, marker='o')\n",
    "plt.xlabel('Number of clusters')\n",
    "plt.ylabel('Davies-Bouldin score (lower is better)')\n",
    "plt.title('Davies-Bouldin score across different number of clusters')\n",
    "plt.show()"
   ]
  },
  {
   "cell_type": "code",
   "execution_count": 418,
   "metadata": {},
   "outputs": [
    {
     "name": "stdout",
     "output_type": "stream",
     "text": [
      "Baseline Clustering\n",
      "Best number of clusters: 6\n",
      "Best Davies-Bouldin score (lower is better): 6.18\n"
     ]
    }
   ],
   "source": [
    "best_idx = np.argmin(davies_bouldin_scores)\n",
    "best_k = n_clusters[best_idx]\n",
    "best_kmeans = kmeans_models[best_idx]\n",
    "\n",
    "print('Baseline Clustering')\n",
    "print(f'Best number of clusters: {best_k}')\n",
    "print(f'Best Davies-Bouldin score (lower is better): {davies_bouldin_scores[best_idx]:.2f}')"
   ]
  },
  {
   "cell_type": "code",
   "execution_count": 419,
   "metadata": {},
   "outputs": [
    {
     "name": "stdout",
     "output_type": "stream",
     "text": [
      "Top 20 terms in each cluster:\n",
      "Cluster 1\n",
      "compil, program, languag, code, graph, optim, memori, parallel, transform, implement, comput, processor, regist, theori, loop, design, system, type, applic, flow\n",
      "-----------------------------------\n",
      "Cluster 2\n",
      "secur, encrypt, scheme, key, cryptographi, attack, iot, protocol, data, propos, authent, imag, cloud, algorithm, cryptograph, chaotic, system, implement, devic, base\n",
      "-----------------------------------\n",
      "Cluster 3\n",
      "robot, control, soft, system, task, environ, learn, simul, human, model, actuat, perform, materi, optim, develop, soft robot, manipul, sensor, evolv, approach\n",
      "-----------------------------------\n",
      "Cluster 4\n",
      "databas, data, queri, relat, relat databas, system, sql, ontolog, inform, model, schema, approach, manag, process, store, graph, inform system, user, web, semant\n",
      "-----------------------------------\n",
      "Cluster 5\n",
      "imag, detect, vision, method, comput vision, model, learn, object, comput, deep, network, propos, system, video, track, featur, dataset, visual, accuraci, perform\n",
      "-----------------------------------\n",
      "Cluster 6\n",
      "quantum, quantum comput, gate, secur, comput, compil, protocol, cryptographi, qubit, circuit, post quantum, key, attack, algorithm, post, oper, state, communic, quantum cryptographi, program\n",
      "-----------------------------------\n"
     ]
    }
   ],
   "source": [
    "# Find the most frequent terms in each cluster\n",
    "N_TOP_WORDS = 20\n",
    "feature_names = tfidf_vectorizer.get_feature_names_out()\n",
    "top_terms = []\n",
    "for i in range(best_k):\n",
    "    cluster_center = best_kmeans.cluster_centers_[i]\n",
    "    top_term_indices = np.argsort(cluster_center)[-N_TOP_WORDS:][::-1]\n",
    "    top_terms.append([feature_names[idx] for idx in top_term_indices])\n",
    "\n",
    "print(f'Top {N_TOP_WORDS} terms in each cluster:')\n",
    "for i, terms in enumerate(top_terms):\n",
    "    print(f'Cluster {i+1}')\n",
    "    print(', '.join(terms))\n",
    "    print('-----------------------------------')"
   ]
  },
  {
   "cell_type": "markdown",
   "metadata": {},
   "source": [
    "## Improving clustering model\n",
    "The following extra steps were done to improve the clustering result:\n",
    "- Preprocessing:\n",
    "  - detect synonyms by using WordNet (Future work)\n",
    "- Clustering:\n",
    "  - feature dimension reduction by using LSA\n",
    "  - Use cosine similarity instead of L_2 distance -> data is already normalized so L_2 is OK!\n",
    "  - Do Scatter/Gather\n",
    "- Representation:\n",
    "  - replace cluster centroids by cluster digests = most frequent words"
   ]
  },
  {
   "cell_type": "code",
   "execution_count": 420,
   "metadata": {},
   "outputs": [],
   "source": [
    "from sklearn.decomposition import TruncatedSVD\n",
    "from sklearn.cluster import AgglomerativeClustering\n",
    "from sklearn.metrics.pairwise import cosine_similarity\n",
    "\n",
    "from itertools import combinations\n",
    "from collections import Counter"
   ]
  },
  {
   "cell_type": "code",
   "execution_count": 421,
   "metadata": {},
   "outputs": [],
   "source": [
    "# Do LSA to reduce the feature dimension from 3828 to 100\n",
    "# n_components = 80\n",
    "# svd = TruncatedSVD(n_components=n_components, random_state=RANDOM_SEED)\n",
    "# reduced_tf_idf_vectors = svd.fit_transform(tf_idf_vectors)"
   ]
  },
  {
   "cell_type": "code",
   "execution_count": 422,
   "metadata": {},
   "outputs": [
    {
     "name": "stdout",
     "output_type": "stream",
     "text": [
      "The best number of components for LSA is 100\n"
     ]
    },
    {
     "data": {
      "image/png": "[encoded data removed]",
      "text/plain": [
       "<Figure size 640x480 with 1 Axes>"
      ]
     },
     "metadata": {},
     "output_type": "display_data"
    }
   ],
   "source": [
    "# LSA reduced version of the tf-idf vectors\n",
    "n_components = list(range(100,501,50))\n",
    "\n",
    "davies_bouldin_scores = []\n",
    "lsa_kmeans_models: list[KMeans] = []\n",
    "svds = {}\n",
    "for i, n in enumerate(n_components):\n",
    "    svd = TruncatedSVD(n_components=n, random_state=RANDOM_SEED)\n",
    "    svd = svd.fit(tf_idf_vectors)\n",
    "    svds[n] = svd\n",
    "\n",
    "    reduced_tf_idf_vectors = svd.transform(tf_idf_vectors)\n",
    "\n",
    "    db_scores_n = []\n",
    "    kmeans_model_n = []\n",
    "    for k in n_clusters:\n",
    "        kmeans = KMeans(init='k-means++', n_init='auto', n_clusters=k, random_state=RANDOM_SEED)\n",
    "        kmeans.fit(reduced_tf_idf_vectors)\n",
    "\n",
    "        kmeans_model_n.append(kmeans)\n",
    "        db_scores_n.append(davies_bouldin_score(reduced_tf_idf_vectors, kmeans.labels_))\n",
    "\n",
    "    best_idx = np.argmin(db_scores_n)\n",
    "    davies_bouldin_scores.append(db_scores_n[best_idx])\n",
    "    lsa_kmeans_models.append(kmeans_model_n[best_idx])\n",
    "\n",
    "best_idx = np.argmin(davies_bouldin_scores)\n",
    "best_n_component = n_components[best_idx]\n",
    "best_svd = svds[best_n_component]\n",
    "best_lsa_kmean = lsa_kmeans_models[best_idx]\n",
    "reduced_tf_idf_vectors = best_svd.transform(tf_idf_vectors)\n",
    "\n",
    "print(f'The best number of components for LSA is {best_n_component}')\n",
    "\n",
    "# Plot the Davies-Bouldin score across different number of clusters\n",
    "plt.plot(n_components, davies_bouldin_scores, marker='o')\n",
    "plt.xlabel('Number of n component')\n",
    "plt.ylabel('Davies-Bouldin score (lower is better)')\n",
    "plt.title('Davies-Bouldin score across different n-component values for LSA.')\n",
    "plt.show()"
   ]
  },
  {
   "cell_type": "code",
   "execution_count": 423,
   "metadata": {},
   "outputs": [
    {
     "name": "stdout",
     "output_type": "stream",
     "text": [
      "The optimal number of clusters in LSA_Kmeans model: 7\n",
      "DB score of that model: 3.007404318907706\n"
     ]
    }
   ],
   "source": [
    "print(f'The optimal number of clusters in LSA_Kmeans model: {len(np.unique(best_lsa_kmean.labels_))}')\n",
    "print(f'DB score of that model: {davies_bouldin_scores[best_idx]}')"
   ]
  },
  {
   "cell_type": "code",
   "execution_count": 424,
   "metadata": {},
   "outputs": [],
   "source": [
    "def buckshot_initialization(X: np.ndarray, n_clusters: int) -> np.ndarray:\n",
    "    '''\n",
    "    ### Scatter/Gather: Buckshot initialization\n",
    "    '''\n",
    "    # Select √(K*n) random samples\n",
    "    num_samples = int(np.sqrt(n_clusters * X.shape[0]))\n",
    "    random_indices = np.random.choice(X.shape[0], num_samples, replace=False)\n",
    "    X_sample = X[random_indices]\n",
    "\n",
    "    # Hierachical clustering on the sampled data\n",
    "    agg_clustering = AgglomerativeClustering(n_clusters=n_clusters)\n",
    "    sample_labels = agg_clustering.fit_predict(X_sample)\n",
    "\n",
    "    initial_seeds = []\n",
    "    for cluster_id in range(n_clusters):\n",
    "        cluster_points = X_sample[sample_labels == cluster_id]\n",
    "        cluster_center = np.mean(cluster_points, axis=0)\n",
    "        initial_seeds.append(cluster_center)\n",
    "    \n",
    "    return initial_seeds\n",
    "\n",
    "def cluster_coherence(X: np.ndarray, labels: np.ndarray, cluster_id: int) -> float:\n",
    "    cluster_points = X[labels == cluster_id]\n",
    "    avg_sim = np.mean(cosine_similarity(cluster_points))\n",
    "    return avg_sim\n",
    "\n",
    "def get_fitted_kmeans(X: np.ndarray, n_clusters: int, initial_seeds: np.ndarray | str, random_state: int) -> KMeans:\n",
    "    kmeans = KMeans(init=initial_seeds, n_init=1, n_clusters=n_clusters, random_state=random_state)\n",
    "    kmeans.fit(X)\n",
    "    return kmeans\n",
    "\n",
    "def split_incoherent_clusters(X: np.ndarray, labels: np.ndarray, threshold: float) -> np.ndarray:\n",
    "    num_clusters = len(np.unique(labels))\n",
    "    for cluster_id in range(num_clusters):\n",
    "        coherence = cluster_coherence(X, labels, cluster_id)\n",
    "        if coherence < threshold:\n",
    "            # Split the cluster\n",
    "            cluster_points = X[labels == cluster_id]\n",
    "            buckshot_seeds = buckshot_initialization(cluster_points, 2)\n",
    "            kmeans = get_fitted_kmeans(cluster_points, 2, buckshot_seeds, RANDOM_SEED)\n",
    "            # Recluster the rest\n",
    "            splitted_labels = kmeans.predict(cluster_points)\n",
    "            \n",
    "            # Update the labels\n",
    "            for splitted_label in enumerate(splitted_labels):\n",
    "                if splitted_label == 1:\n",
    "                    labels[labels == cluster_id] = num_clusters\n",
    "                    num_clusters += 1\n",
    "\n",
    "    return labels\n",
    "\n",
    "def merge_similar_clusters(X: np.ndarray, labels: np.ndarray, threshold: float) -> np.ndarray:\n",
    "    cluster_centroids = [np.mean(X[labels == i], axis=0) for i in np.unique(labels)]\n",
    "\n",
    "    for i, j in combinations(range(len(cluster_centroids)), 2):\n",
    "        # Calculate the cosine similarity between two cluster centroids\n",
    "        sim = cosine_similarity([cluster_centroids[i]], [cluster_centroids[j]])[0,0]\n",
    "        if sim > threshold:\n",
    "            labels[labels == j] = i\n",
    "\n",
    "    return labels\n"
   ]
  },
  {
   "cell_type": "code",
   "execution_count": 429,
   "metadata": {},
   "outputs": [
    {
     "data": {
      "image/png": "[encoded data removed]",
      "text/plain": [
       "<Figure size 640x480 with 1 Axes>"
      ]
     },
     "metadata": {},
     "output_type": "display_data"
    }
   ],
   "source": [
    "SPLIT_THRESHOLD = 0.2\n",
    "MERGE_THRESHOLD = 0.8\n",
    "\n",
    "davies_bouldin_scores = []\n",
    "improved_kmeans_models: list[KMeans] = []\n",
    "for k in n_clusters:\n",
    "    buckshot_seeds = buckshot_initialization(reduced_tf_idf_vectors, k)\n",
    "    kmeans = get_fitted_kmeans(reduced_tf_idf_vectors, k, buckshot_seeds, RANDOM_SEED)\n",
    "\n",
    "    # kmeans = KMeans(init='k-means++', n_init='auto', n_clusters=k, random_state=RANDOM_SEED)\n",
    "    # kmeans.fit(reduced_tf_idf_vectors)\n",
    "\n",
    "    # Do Scatter/Gather refinement\n",
    "    # refined_labels = kmeans.labels_\n",
    "    # for cluster_id in range(k):\n",
    "    #     refined_labels = split_incoherent_clusters(reduced_tf_idf_vectors, refined_labels, SPLIT_THRESHOLD)\n",
    "    # refined_labels = merge_similar_clusters(reduced_tf_idf_vectors, refined_labels, MERGE_THRESHOLD)\n",
    "\n",
    "    # kmeans.labels_ = refined_labels\n",
    "\n",
    "    improved_kmeans_models.append(kmeans)\n",
    "    davies_bouldin_scores.append(davies_bouldin_score(reduced_tf_idf_vectors, kmeans.labels_))\n",
    "\n",
    "# Plot the Davies-Bouldin score across different number of clusters\n",
    "plt.plot([len(np.unique(model.labels_)) for model in improved_kmeans_models], davies_bouldin_scores, marker='o')\n",
    "plt.xlabel('Number of clusters')\n",
    "plt.ylabel('Davies-Bouldin score (lower is better)')\n",
    "plt.title('Davies-Bouldin score across different number of clusters')\n",
    "plt.show()"
   ]
  },
  {
   "cell_type": "code",
   "execution_count": 430,
   "metadata": {},
   "outputs": [
    {
     "name": "stdout",
     "output_type": "stream",
     "text": [
      "Improved Clustering\n",
      "Best number of clusters: 8\n",
      "Best Davies-Bouldin score (lower is better): 2.66\n"
     ]
    }
   ],
   "source": [
    "best_idx = np.argmin(davies_bouldin_scores)\n",
    "best_kmeans = improved_kmeans_models[best_idx]\n",
    "best_k = len(np.unique(best_kmeans.labels_))\n",
    "\n",
    "print('Improved Clustering')\n",
    "print(f'Best number of clusters: {best_k}')\n",
    "print(f'Best Davies-Bouldin score (lower is better): {davies_bouldin_scores[best_idx]:.2f}')"
   ]
  },
  {
   "cell_type": "code",
   "execution_count": 431,
   "metadata": {},
   "outputs": [
    {
     "name": "stdout",
     "output_type": "stream",
     "text": [
      "Top 20 terms in each cluster:\n",
      "Cluster 1\n",
      "robot, imag, detect, method, system, model, learn, vision, object, propos, comput, perform, comput vision, network, control, track, deep, estim, result, train\n",
      "-----------------------------------\n",
      "Cluster 2\n",
      "quantum, quantum comput, secur, comput, compil, gate, key, cryptographi, protocol, circuit, qubit, attack, post quantum, algorithm, oper, state, communic, post, classic, program\n",
      "-----------------------------------\n",
      "Cluster 3\n",
      "compil, program, languag, code, graph, memori, parallel, transform, optim, implement, processor, regist, comput, theori, design, applic, loop, flow, level, system\n",
      "-----------------------------------\n",
      "Cluster 4\n",
      "queri, sql, databas, languag, relat, sql queri, data, relat databas, natur languag, translat, user, execut, natur, approach, fuzzi, graph, model, system, queri execut, process\n",
      "-----------------------------------\n",
      "Cluster 5\n",
      "secur, encrypt, scheme, key, cryptographi, protocol, attack, iot, propos, data, authent, imag, cloud, algorithm, cryptograph, system, chaotic, implement, devic, base\n",
      "-----------------------------------\n",
      "Cluster 6\n",
      "optim, bas, new, problem, algorithm, compil, techniqu, bas optim, general, form, optim techniqu, time, machin, averag, reduct, solv, machin learn, strength, mine, vector\n",
      "-----------------------------------\n",
      "Cluster 7\n",
      "databas, data, relat, relat databas, ontolog, system, inform, schema, model, approach, manag, queri, inform system, store, storag, watermark, design, process, integr, propos\n",
      "-----------------------------------\n",
      "Cluster 8\n",
      "qualifi, type, checker, java, plug in, plug, framework, programm, check, in, error, custom, type check, java languag, compil, write, backward compat, programm write, backward, type system\n",
      "-----------------------------------\n"
     ]
    }
   ],
   "source": [
    "# Find the most frequent terms in each cluster\n",
    "feature_names = tfidf_vectorizer.get_feature_names_out()\n",
    "top_terms = []\n",
    "original_space_cluster_centers = best_svd.inverse_transform(best_kmeans.cluster_centers_)\n",
    "\n",
    "for i in range(best_k):\n",
    "    cluster_center = best_kmeans.cluster_centers_[i]\n",
    "    top_terms_indices = np.argsort(original_space_cluster_centers[i])[-N_TOP_WORDS:][::-1]\n",
    "    top_terms.append([feature_names[idx] for idx in top_terms_indices])\n",
    "\n",
    "print(f'Top {N_TOP_WORDS} terms in each cluster:')\n",
    "for i, top_term in enumerate(top_terms):\n",
    "    print(f'Cluster {i+1}')\n",
    "    print(', '.join(top_term))\n",
    "    print('-----------------------------------')\n",
    "\n"
   ]
  },
  {
   "cell_type": "code",
   "execution_count": 432,
   "metadata": {},
   "outputs": [
    {
     "name": "stdout",
     "output_type": "stream",
     "text": [
      "Cluster 1 digest:\n",
      "robot, method, imag, system, model, propos, detect, perform, learn, comput, result, base, data, algorithm, vision, network, approach, object, studi, develop\n",
      "-----------------------------------\n",
      "Cluster 2 digest:\n",
      "quantum, comput, secur, compil, algorithm, cryptographi, oper, propos, key, implement, protocol, attack, gate, program, state, circuit, scheme, communic, post-quantum, time\n",
      "-----------------------------------\n",
      "Cluster 3 digest:\n",
      "compil, program, code, languag, comput, optim, system, graph, implement, memori, paper, parallel, design, applic, perform, transform, algorithm, approach, model, base\n",
      "-----------------------------------\n",
      "Cluster 4 digest:\n",
      "queri, databas, data, sql, relat, languag, system, approach, model, process, execut, user, translat, propos, natur, base, specul, paper, result, algorithm\n",
      "-----------------------------------\n",
      "Cluster 5 digest:\n",
      "secur, encrypt, propos, data, scheme, key, cryptographi, system, base, algorithm, imag, attack, protocol, comput, implement, iot, authent, provid, applic, paper\n",
      "-----------------------------------\n",
      "Cluster 6 digest:\n",
      "optim, ti, new, general, triangular, inequ, problem, techniqu, ti-bas, deploy, strength, reduct, algorithm, compil, name, form, x, averag, theori, compiler-bas\n",
      "-----------------------------------\n",
      "Cluster 7 digest:\n",
      "databas, data, relat, system, inform, model, approach, propos, process, manag, ontolog, paper, develop, design, applic, schema, method, base, result, perform\n",
      "-----------------------------------\n",
      "Cluster 8 digest:\n",
      "type, qualifi, checker, java, framework, programm, system, compil, write, plug-in, error, custom, type-check, languag, semant, code, detect, backward-compat, way, program\n",
      "-----------------------------------\n"
     ]
    }
   ],
   "source": [
    "# Modifications of K-representatives: Replace cluster centroids by cluster digests\n",
    "cluster_digests = {}\n",
    "for cluster_id in range(best_k):\n",
    "    cluster_docs = np.where(best_kmeans.labels_ == cluster_id)[0]\n",
    "    combined_terms = [term for doc_index in cluster_docs for term in tokens_list[doc_index]]\n",
    "    term_freqs = Counter(combined_terms)\n",
    "    cluster_digests[cluster_id] = [term for term, _ in term_freqs.most_common(N_TOP_WORDS)]\n",
    "\n",
    "\n",
    "for cluster_id, terms in cluster_digests.items():\n",
    "    print(f\"Cluster {cluster_id+1} digest:\")\n",
    "    print(\", \".join(terms))\n",
    "    print('-----------------------------------')"
   ]
  },
  {
   "cell_type": "code",
   "execution_count": null,
   "metadata": {},
   "outputs": [],
   "source": []
  }
 ],
 "metadata": {
  "kernelspec": {
   "display_name": "data-mining-course",
   "language": "python",
   "name": "python3"
  },
  "language_info": {
   "codemirror_mode": {
    "name": "ipython",
    "version": 3
   },
   "file_extension": ".py",
   "mimetype": "text/x-python",
   "name": "python",
   "nbconvert_exporter": "python",
   "pygments_lexer": "ipython3",
   "version": "3.10.12"
  }
 },
 "nbformat": 4,
 "nbformat_minor": 2
}
