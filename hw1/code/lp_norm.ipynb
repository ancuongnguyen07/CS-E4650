def Lp_norm(data: np.ndarray, p: float) -> np.floating:
    if p == np.inf:
        return np.max(np.abs(data))
    
    return np.sum(np.abs(data) ** p) ** (1/p)
