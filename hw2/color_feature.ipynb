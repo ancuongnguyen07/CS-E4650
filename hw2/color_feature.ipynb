def color_extraction(color_str: str) -> list:
    '''
    Extract modifier and main_color from a given color string
    e.g. "light grey" -> "light", "grey"
    '''
    color_elements = color_str.split(' ')
    if len(color_elements) == 1:
        return ['', color_str]
    
    return color_elements

def color_dist(color1: str, color2: str) -> float:
    '''
    Return color distance between the two given color strings.
    This custom color distance includes two components: modifier
    distance and main color distance, where each component has its
    own weight.

    D = modifier_weight * modifier_distance + main_color_weight * main_color_distance,
    modifier_weight + main_color_weight = 1
    '''
    modifier1, main_color1 = color_extraction(color1)
    modifier2, main_color2 = color_extraction(color2)

    main_color_dist = main_color_rgb_dist(main_color1, main_color2)
    modifier_dist = levenshtein_dist(modifier1, modifier2)

    return (1-MAIN_COLOR_DIST_WEIGHT)*modifier_dist + MAIN_COLOR_DIST_WEIGHT*main_color_dist